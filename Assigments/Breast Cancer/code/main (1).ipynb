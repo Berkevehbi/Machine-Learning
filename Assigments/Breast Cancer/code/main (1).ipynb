{
 "cells": [
  {
   "cell_type": "code",
   "execution_count": 1,
   "id": "initial_id",
   "metadata": {
    "ExecuteTime": {
     "end_time": "2024-02-18T21:23:44.280220700Z",
     "start_time": "2024-02-18T21:23:44.247530500Z"
    }
   },
   "outputs": [],
   "source": [
    "import pandas as pd\n",
    "import matplotlib.pyplot as plt"
   ]
  },
  {
   "cell_type": "code",
   "execution_count": 2,
   "id": "3cf8eccc3f4217a4",
   "metadata": {
    "ExecuteTime": {
     "end_time": "2024-02-18T21:23:49.991027900Z",
     "start_time": "2024-02-18T21:23:44.251439600Z"
    }
   },
   "outputs": [
    {
     "name": "stdout",
     "output_type": "stream",
     "text": [
      "     Sample_code_number  Clump_thickness  Uniformity_of_cell_size  \\\n",
      "0               1000025                5                        1   \n",
      "1               1002945                5                        4   \n",
      "2               1015425                3                        1   \n",
      "3               1016277                6                        8   \n",
      "4               1017023                4                        1   \n",
      "..                  ...              ...                      ...   \n",
      "694              776715                3                        1   \n",
      "695              841769                2                        1   \n",
      "696              888820                5                       10   \n",
      "697              897471                4                        8   \n",
      "698              897471                4                        8   \n",
      "\n",
      "     Uniformity_of_cell_shape  Marginal_adhesion  Single_epithelial_cell_size  \\\n",
      "0                           1                  1                            2   \n",
      "1                           4                  5                            7   \n",
      "2                           1                  1                            2   \n",
      "3                           8                  1                            3   \n",
      "4                           1                  3                            2   \n",
      "..                        ...                ...                          ...   \n",
      "694                         1                  1                            3   \n",
      "695                         1                  1                            2   \n",
      "696                        10                  3                            7   \n",
      "697                         6                  4                            3   \n",
      "698                         8                  5                            4   \n",
      "\n",
      "    Bare_nuclei  Bland_chromatin  Normal_nucleoli  Mitoses  Class  \n",
      "0             1                3                1        1      2  \n",
      "1            10                3                2        1      2  \n",
      "2             2                3                1        1      2  \n",
      "3             4                3                7        1      2  \n",
      "4             1                3                1        1      2  \n",
      "..          ...              ...              ...      ...    ...  \n",
      "694           2                1                1        1      2  \n",
      "695           1                1                1        1      2  \n",
      "696           3                8               10        2      4  \n",
      "697           4               10                6        1      4  \n",
      "698           5               10                4        1      4  \n",
      "\n",
      "[699 rows x 11 columns]\n"
     ]
    }
   ],
   "source": [
    "data_yolu = 'breast-cancer-wisconsin.data'\n",
    "\n",
    "df = pd.read_csv(data_yolu, names=['Sample_code_number', 'Clump_thickness', 'Uniformity_of_cell_size', 'Uniformity_of_cell_shape',\n",
    "                                      'Marginal_adhesion', 'Single_epithelial_cell_size', 'Bare_nuclei',\n",
    "                                      'Bland_chromatin', 'Normal_nucleoli', 'Mitoses', 'Class'])\n",
    "\n",
    "print(df)"
   ]
  },
  {
   "cell_type": "code",
   "execution_count": 3,
   "id": "aeed6e7fa9d13d9a",
   "metadata": {
    "ExecuteTime": {
     "end_time": "2024-02-18T21:23:50.065210100Z",
     "start_time": "2024-02-18T21:23:50.013261500Z"
    },
    "scrolled": true
   },
   "outputs": [
    {
     "name": "stdout",
     "output_type": "stream",
     "text": [
      "<class 'pandas.core.frame.DataFrame'>\n",
      "RangeIndex: 699 entries, 0 to 698\n",
      "Data columns (total 11 columns):\n",
      " #   Column                       Non-Null Count  Dtype \n",
      "---  ------                       --------------  ----- \n",
      " 0   Sample_code_number           699 non-null    int64 \n",
      " 1   Clump_thickness              699 non-null    int64 \n",
      " 2   Uniformity_of_cell_size      699 non-null    int64 \n",
      " 3   Uniformity_of_cell_shape     699 non-null    int64 \n",
      " 4   Marginal_adhesion            699 non-null    int64 \n",
      " 5   Single_epithelial_cell_size  699 non-null    int64 \n",
      " 6   Bare_nuclei                  699 non-null    object\n",
      " 7   Bland_chromatin              699 non-null    int64 \n",
      " 8   Normal_nucleoli              699 non-null    int64 \n",
      " 9   Mitoses                      699 non-null    int64 \n",
      " 10  Class                        699 non-null    int64 \n",
      "dtypes: int64(10), object(1)\n",
      "memory usage: 60.2+ KB\n"
     ]
    }
   ],
   "source": [
    "df.info()"
   ]
  },
  {
   "cell_type": "code",
   "execution_count": 4,
   "id": "6e323484",
   "metadata": {},
   "outputs": [],
   "source": [
    "df['Bare_nuclei'] = [int(val) if val != '?' else None for val in df['Bare_nuclei']]"
   ]
  },
  {
   "cell_type": "code",
   "execution_count": 5,
   "id": "13d0b553",
   "metadata": {},
   "outputs": [
    {
     "data": {
      "image/png": "[encoded data removed]",
      "text/plain": [
       "<Figure size 1200x1000 with 12 Axes>"
      ]
     },
     "metadata": {},
     "output_type": "display_data"
    }
   ],
   "source": [
    "df.hist(figsize=(12, 10))\n",
    "plt.show()"
   ]
  },
  {
   "cell_type": "code",
   "execution_count": 6,
   "id": "83ffa31320e561a0",
   "metadata": {
    "ExecuteTime": {
     "end_time": "2024-02-18T21:23:50.065210100Z",
     "start_time": "2024-02-18T21:23:50.026082800Z"
    }
   },
   "outputs": [
    {
     "data": {
      "text/plain": [
       "Sample_code_number              0\n",
       "Clump_thickness                 0\n",
       "Uniformity_of_cell_size         0\n",
       "Uniformity_of_cell_shape        0\n",
       "Marginal_adhesion               0\n",
       "Single_epithelial_cell_size     0\n",
       "Bare_nuclei                    16\n",
       "Bland_chromatin                 0\n",
       "Normal_nucleoli                 0\n",
       "Mitoses                         0\n",
       "Class                           0\n",
       "dtype: int64"
      ]
     },
     "execution_count": 6,
     "metadata": {},
     "output_type": "execute_result"
    }
   ],
   "source": [
    "df.isnull().sum()"
   ]
  },
  {
   "cell_type": "code",
   "execution_count": 7,
   "id": "8a9ea54d1e698344",
   "metadata": {
    "ExecuteTime": {
     "end_time": "2024-02-18T21:23:50.065210100Z",
     "start_time": "2024-02-18T21:23:50.029364100Z"
    }
   },
   "outputs": [],
   "source": [
    "df.fillna(df.mean(), inplace=True)"
   ]
  },
  {
   "cell_type": "code",
   "execution_count": 8,
   "id": "e66d1f87bafe99f1",
   "metadata": {
    "ExecuteTime": {
     "end_time": "2024-02-18T21:23:50.119625200Z",
     "start_time": "2024-02-18T21:23:50.033716Z"
    }
   },
   "outputs": [
    {
     "data": {
      "text/html": [
       "<div>\n",
       "<style scoped>\n",
       "    .dataframe tbody tr th:only-of-type {\n",
       "        vertical-align: middle;\n",
       "    }\n",
       "\n",
       "    .dataframe tbody tr th {\n",
       "        vertical-align: top;\n",
       "    }\n",
       "\n",
       "    .dataframe thead th {\n",
       "        text-align: right;\n",
       "    }\n",
       "</style>\n",
       "<table border=\"1\" class=\"dataframe\">\n",
       "  <thead>\n",
       "    <tr style=\"text-align: right;\">\n",
       "      <th></th>\n",
       "      <th>Sample_code_number</th>\n",
       "      <th>Clump_thickness</th>\n",
       "      <th>Uniformity_of_cell_size</th>\n",
       "      <th>Uniformity_of_cell_shape</th>\n",
       "      <th>Marginal_adhesion</th>\n",
       "      <th>Single_epithelial_cell_size</th>\n",
       "      <th>Bare_nuclei</th>\n",
       "      <th>Bland_chromatin</th>\n",
       "      <th>Normal_nucleoli</th>\n",
       "      <th>Mitoses</th>\n",
       "      <th>Class</th>\n",
       "    </tr>\n",
       "  </thead>\n",
       "  <tbody>\n",
       "    <tr>\n",
       "      <th>Sample_code_number</th>\n",
       "      <td>1.000000</td>\n",
       "      <td>-0.055308</td>\n",
       "      <td>-0.041603</td>\n",
       "      <td>-0.041576</td>\n",
       "      <td>-0.064878</td>\n",
       "      <td>-0.045528</td>\n",
       "      <td>-0.098668</td>\n",
       "      <td>-0.060051</td>\n",
       "      <td>-0.052072</td>\n",
       "      <td>-0.034901</td>\n",
       "      <td>-0.080226</td>\n",
       "    </tr>\n",
       "    <tr>\n",
       "      <th>Clump_thickness</th>\n",
       "      <td>-0.055308</td>\n",
       "      <td>1.000000</td>\n",
       "      <td>0.644913</td>\n",
       "      <td>0.654589</td>\n",
       "      <td>0.486356</td>\n",
       "      <td>0.521816</td>\n",
       "      <td>0.587300</td>\n",
       "      <td>0.558428</td>\n",
       "      <td>0.535835</td>\n",
       "      <td>0.350034</td>\n",
       "      <td>0.716001</td>\n",
       "    </tr>\n",
       "    <tr>\n",
       "      <th>Uniformity_of_cell_size</th>\n",
       "      <td>-0.041603</td>\n",
       "      <td>0.644913</td>\n",
       "      <td>1.000000</td>\n",
       "      <td>0.906882</td>\n",
       "      <td>0.705582</td>\n",
       "      <td>0.751799</td>\n",
       "      <td>0.686801</td>\n",
       "      <td>0.755721</td>\n",
       "      <td>0.722865</td>\n",
       "      <td>0.458693</td>\n",
       "      <td>0.817904</td>\n",
       "    </tr>\n",
       "    <tr>\n",
       "      <th>Uniformity_of_cell_shape</th>\n",
       "      <td>-0.041576</td>\n",
       "      <td>0.654589</td>\n",
       "      <td>0.906882</td>\n",
       "      <td>1.000000</td>\n",
       "      <td>0.683079</td>\n",
       "      <td>0.719668</td>\n",
       "      <td>0.709606</td>\n",
       "      <td>0.735948</td>\n",
       "      <td>0.719446</td>\n",
       "      <td>0.438911</td>\n",
       "      <td>0.818934</td>\n",
       "    </tr>\n",
       "    <tr>\n",
       "      <th>Marginal_adhesion</th>\n",
       "      <td>-0.064878</td>\n",
       "      <td>0.486356</td>\n",
       "      <td>0.705582</td>\n",
       "      <td>0.683079</td>\n",
       "      <td>1.000000</td>\n",
       "      <td>0.599599</td>\n",
       "      <td>0.665049</td>\n",
       "      <td>0.666715</td>\n",
       "      <td>0.603352</td>\n",
       "      <td>0.417633</td>\n",
       "      <td>0.696800</td>\n",
       "    </tr>\n",
       "    <tr>\n",
       "      <th>Single_epithelial_cell_size</th>\n",
       "      <td>-0.045528</td>\n",
       "      <td>0.521816</td>\n",
       "      <td>0.751799</td>\n",
       "      <td>0.719668</td>\n",
       "      <td>0.599599</td>\n",
       "      <td>1.000000</td>\n",
       "      <td>0.581261</td>\n",
       "      <td>0.616102</td>\n",
       "      <td>0.628881</td>\n",
       "      <td>0.479101</td>\n",
       "      <td>0.682785</td>\n",
       "    </tr>\n",
       "    <tr>\n",
       "      <th>Bare_nuclei</th>\n",
       "      <td>-0.098668</td>\n",
       "      <td>0.587300</td>\n",
       "      <td>0.686801</td>\n",
       "      <td>0.709606</td>\n",
       "      <td>0.665049</td>\n",
       "      <td>0.581261</td>\n",
       "      <td>1.000000</td>\n",
       "      <td>0.675896</td>\n",
       "      <td>0.577362</td>\n",
       "      <td>0.338740</td>\n",
       "      <td>0.816050</td>\n",
       "    </tr>\n",
       "    <tr>\n",
       "      <th>Bland_chromatin</th>\n",
       "      <td>-0.060051</td>\n",
       "      <td>0.558428</td>\n",
       "      <td>0.755721</td>\n",
       "      <td>0.735948</td>\n",
       "      <td>0.666715</td>\n",
       "      <td>0.616102</td>\n",
       "      <td>0.675896</td>\n",
       "      <td>1.000000</td>\n",
       "      <td>0.665878</td>\n",
       "      <td>0.344169</td>\n",
       "      <td>0.756616</td>\n",
       "    </tr>\n",
       "    <tr>\n",
       "      <th>Normal_nucleoli</th>\n",
       "      <td>-0.052072</td>\n",
       "      <td>0.535835</td>\n",
       "      <td>0.722865</td>\n",
       "      <td>0.719446</td>\n",
       "      <td>0.603352</td>\n",
       "      <td>0.628881</td>\n",
       "      <td>0.577362</td>\n",
       "      <td>0.665878</td>\n",
       "      <td>1.000000</td>\n",
       "      <td>0.428336</td>\n",
       "      <td>0.712244</td>\n",
       "    </tr>\n",
       "    <tr>\n",
       "      <th>Mitoses</th>\n",
       "      <td>-0.034901</td>\n",
       "      <td>0.350034</td>\n",
       "      <td>0.458693</td>\n",
       "      <td>0.438911</td>\n",
       "      <td>0.417633</td>\n",
       "      <td>0.479101</td>\n",
       "      <td>0.338740</td>\n",
       "      <td>0.344169</td>\n",
       "      <td>0.428336</td>\n",
       "      <td>1.000000</td>\n",
       "      <td>0.423170</td>\n",
       "    </tr>\n",
       "    <tr>\n",
       "      <th>Class</th>\n",
       "      <td>-0.080226</td>\n",
       "      <td>0.716001</td>\n",
       "      <td>0.817904</td>\n",
       "      <td>0.818934</td>\n",
       "      <td>0.696800</td>\n",
       "      <td>0.682785</td>\n",
       "      <td>0.816050</td>\n",
       "      <td>0.756616</td>\n",
       "      <td>0.712244</td>\n",
       "      <td>0.423170</td>\n",
       "      <td>1.000000</td>\n",
       "    </tr>\n",
       "  </tbody>\n",
       "</table>\n",
       "</div>"
      ],
      "text/plain": [
       "                             Sample_code_number  Clump_thickness  \\\n",
       "Sample_code_number                     1.000000        -0.055308   \n",
       "Clump_thickness                       -0.055308         1.000000   \n",
       "Uniformity_of_cell_size               -0.041603         0.644913   \n",
       "Uniformity_of_cell_shape              -0.041576         0.654589   \n",
       "Marginal_adhesion                     -0.064878         0.486356   \n",
       "Single_epithelial_cell_size           -0.045528         0.521816   \n",
       "Bare_nuclei                           -0.098668         0.587300   \n",
       "Bland_chromatin                       -0.060051         0.558428   \n",
       "Normal_nucleoli                       -0.052072         0.535835   \n",
       "Mitoses                               -0.034901         0.350034   \n",
       "Class                                 -0.080226         0.716001   \n",
       "\n",
       "                             Uniformity_of_cell_size  \\\n",
       "Sample_code_number                         -0.041603   \n",
       "Clump_thickness                             0.644913   \n",
       "Uniformity_of_cell_size                     1.000000   \n",
       "Uniformity_of_cell_shape                    0.906882   \n",
       "Marginal_adhesion                           0.705582   \n",
       "Single_epithelial_cell_size                 0.751799   \n",
       "Bare_nuclei                                 0.686801   \n",
       "Bland_chromatin                             0.755721   \n",
       "Normal_nucleoli                             0.722865   \n",
       "Mitoses                                     0.458693   \n",
       "Class                                       0.817904   \n",
       "\n",
       "                             Uniformity_of_cell_shape  Marginal_adhesion  \\\n",
       "Sample_code_number                          -0.041576          -0.064878   \n",
       "Clump_thickness                              0.654589           0.486356   \n",
       "Uniformity_of_cell_size                      0.906882           0.705582   \n",
       "Uniformity_of_cell_shape                     1.000000           0.683079   \n",
       "Marginal_adhesion                            0.683079           1.000000   \n",
       "Single_epithelial_cell_size                  0.719668           0.599599   \n",
       "Bare_nuclei                                  0.709606           0.665049   \n",
       "Bland_chromatin                              0.735948           0.666715   \n",
       "Normal_nucleoli                              0.719446           0.603352   \n",
       "Mitoses                                      0.438911           0.417633   \n",
       "Class                                        0.818934           0.696800   \n",
       "\n",
       "                             Single_epithelial_cell_size  Bare_nuclei  \\\n",
       "Sample_code_number                             -0.045528    -0.098668   \n",
       "Clump_thickness                                 0.521816     0.587300   \n",
       "Uniformity_of_cell_size                         0.751799     0.686801   \n",
       "Uniformity_of_cell_shape                        0.719668     0.709606   \n",
       "Marginal_adhesion                               0.599599     0.665049   \n",
       "Single_epithelial_cell_size                     1.000000     0.581261   \n",
       "Bare_nuclei                                     0.581261     1.000000   \n",
       "Bland_chromatin                                 0.616102     0.675896   \n",
       "Normal_nucleoli                                 0.628881     0.577362   \n",
       "Mitoses                                         0.479101     0.338740   \n",
       "Class                                           0.682785     0.816050   \n",
       "\n",
       "                             Bland_chromatin  Normal_nucleoli   Mitoses  \\\n",
       "Sample_code_number                 -0.060051        -0.052072 -0.034901   \n",
       "Clump_thickness                     0.558428         0.535835  0.350034   \n",
       "Uniformity_of_cell_size             0.755721         0.722865  0.458693   \n",
       "Uniformity_of_cell_shape            0.735948         0.719446  0.438911   \n",
       "Marginal_adhesion                   0.666715         0.603352  0.417633   \n",
       "Single_epithelial_cell_size         0.616102         0.628881  0.479101   \n",
       "Bare_nuclei                         0.675896         0.577362  0.338740   \n",
       "Bland_chromatin                     1.000000         0.665878  0.344169   \n",
       "Normal_nucleoli                     0.665878         1.000000  0.428336   \n",
       "Mitoses                             0.344169         0.428336  1.000000   \n",
       "Class                               0.756616         0.712244  0.423170   \n",
       "\n",
       "                                Class  \n",
       "Sample_code_number          -0.080226  \n",
       "Clump_thickness              0.716001  \n",
       "Uniformity_of_cell_size      0.817904  \n",
       "Uniformity_of_cell_shape     0.818934  \n",
       "Marginal_adhesion            0.696800  \n",
       "Single_epithelial_cell_size  0.682785  \n",
       "Bare_nuclei                  0.816050  \n",
       "Bland_chromatin              0.756616  \n",
       "Normal_nucleoli              0.712244  \n",
       "Mitoses                      0.423170  \n",
       "Class                        1.000000  "
      ]
     },
     "execution_count": 8,
     "metadata": {},
     "output_type": "execute_result"
    }
   ],
   "source": [
    "df.corr()"
   ]
  },
  {
   "cell_type": "code",
   "execution_count": 9,
   "id": "f3a602a050dc6ee",
   "metadata": {
    "ExecuteTime": {
     "end_time": "2024-02-18T21:23:50.120624700Z",
     "start_time": "2024-02-18T21:23:50.043991700Z"
    }
   },
   "outputs": [
    {
     "data": {
      "text/plain": [
       "2    458\n",
       "4    241\n",
       "Name: Class, dtype: int64"
      ]
     },
     "execution_count": 9,
     "metadata": {},
     "output_type": "execute_result"
    }
   ],
   "source": [
    "df['Class'].value_counts()"
   ]
  },
  {
   "cell_type": "code",
   "execution_count": 10,
   "id": "edba4d3a52b7e013",
   "metadata": {
    "ExecuteTime": {
     "end_time": "2024-02-18T21:23:50.120624700Z",
     "start_time": "2024-02-18T21:23:50.048681800Z"
    }
   },
   "outputs": [],
   "source": [
    "df.drop('Sample_code_number', axis=1, inplace=True)\n",
    "df.drop('Uniformity_of_cell_size', axis=1, inplace=True)\n",
    "df.drop('Single_epithelial_cell_size', axis=1, inplace=True)\n",
    "df.drop('Mitoses',axis=1, inplace=True)"
   ]
  },
  {
   "cell_type": "code",
   "execution_count": 11,
   "id": "e0588b0d8a67e369",
   "metadata": {
    "ExecuteTime": {
     "end_time": "2024-02-18T21:23:50.211841500Z",
     "start_time": "2024-02-18T21:23:50.055200900Z"
    }
   },
   "outputs": [],
   "source": [
    "for i in range(len(df)):\n",
    "    if df.iloc[i, df.columns.get_loc('Class')] == 2:\n",
    "        df.iloc[i, df.columns.get_loc('Class')] = 0\n",
    "    elif df.iloc[i, df.columns.get_loc('Class')] == 4:\n",
    "        df.iloc[i, df.columns.get_loc('Class')] = 1"
   ]
  },
  {
   "cell_type": "code",
   "execution_count": 12,
   "id": "c0c7b149c1e78d68",
   "metadata": {
    "ExecuteTime": {
     "end_time": "2024-02-18T21:23:50.221088400Z",
     "start_time": "2024-02-18T21:23:50.101264Z"
    }
   },
   "outputs": [
    {
     "data": {
      "text/plain": [
       "\"from sklearn.utils import resample \\nclass1_samples = df[df['Class'] == 1] \\nresampled_class1 = resample(class1_samples, n_samples=205, random_state=42) \\ndf = pd.concat([df, resampled_class1])\""
      ]
     },
     "execution_count": 12,
     "metadata": {},
     "output_type": "execute_result"
    }
   ],
   "source": [
    "\"\"\"from sklearn.utils import resample \n",
    "class1_samples = df[df['Class'] == 1] \n",
    "resampled_class1 = resample(class1_samples, n_samples=205, random_state=42) \n",
    "df = pd.concat([df, resampled_class1])\"\"\""
   ]
  },
  {
   "cell_type": "code",
   "execution_count": 13,
   "id": "a50f9cbe",
   "metadata": {},
   "outputs": [
    {
     "name": "stdout",
     "output_type": "stream",
     "text": [
      "Requirement already satisfied: imbalanced-learn in c:\\users\\asus\\anaconda3\\lib\\site-packages (0.12.0)\n",
      "Requirement already satisfied: numpy>=1.17.3 in c:\\users\\asus\\anaconda3\\lib\\site-packages (from imbalanced-learn) (1.24.3)\n",
      "Requirement already satisfied: scipy>=1.5.0 in c:\\users\\asus\\anaconda3\\lib\\site-packages (from imbalanced-learn) (1.10.1)\n",
      "Requirement already satisfied: scikit-learn>=1.0.2 in c:\\users\\asus\\anaconda3\\lib\\site-packages (from imbalanced-learn) (1.3.0)\n",
      "Requirement already satisfied: joblib>=1.1.1 in c:\\users\\asus\\anaconda3\\lib\\site-packages (from imbalanced-learn) (1.2.0)\n",
      "Requirement already satisfied: threadpoolctl>=2.0.0 in c:\\users\\asus\\anaconda3\\lib\\site-packages (from imbalanced-learn) (2.2.0)\n"
     ]
    }
   ],
   "source": [
    "!pip install -U imbalanced-learn"
   ]
  },
  {
   "cell_type": "code",
   "execution_count": 14,
   "id": "c30c5987",
   "metadata": {},
   "outputs": [],
   "source": [
    "from imblearn.over_sampling import SMOTE\n",
    "from imblearn.under_sampling import RandomUnderSampler\n",
    "from imblearn.pipeline import Pipeline\n",
    "\n",
    "pipeline = Pipeline([\n",
    "    ('over', SMOTE(sampling_strategy=0.8, random_state=2)),\n",
    "    ('under', RandomUnderSampler(sampling_strategy='auto', random_state=23))\n",
    "])\n",
    "X_resampled, y_resampled = pipeline.fit_resample(df.drop(columns=['Class']), df['Class'])"
   ]
  },
  {
   "cell_type": "code",
   "execution_count": 15,
   "id": "9605d2b9",
   "metadata": {},
   "outputs": [
    {
     "data": {
      "text/plain": [
       "0    366\n",
       "1    366\n",
       "Name: Class, dtype: int64"
      ]
     },
     "execution_count": 15,
     "metadata": {},
     "output_type": "execute_result"
    }
   ],
   "source": [
    "y_resampled.value_counts()"
   ]
  },
  {
   "cell_type": "code",
   "execution_count": 16,
   "id": "104e96e8",
   "metadata": {},
   "outputs": [
    {
     "data": {
      "image/png": "[encoded data removed]",
      "text/plain": [
       "<Figure size 1200x1000 with 6 Axes>"
      ]
     },
     "metadata": {},
     "output_type": "display_data"
    }
   ],
   "source": [
    "X_resampled.hist(figsize=(12, 10))\n",
    "plt.show()"
   ]
  },
  {
   "cell_type": "code",
   "execution_count": 26,
   "id": "a1ff1c5e",
   "metadata": {},
   "outputs": [
    {
     "data": {
      "image/png": "[encoded data removed]",
      "text/plain": [
       "<Figure size 600x400 with 1 Axes>"
      ]
     },
     "metadata": {},
     "output_type": "display_data"
    }
   ],
   "source": [
    "y_resampled.hist(figsize=(6,4))\n",
    "plt.show()"
   ]
  },
  {
   "cell_type": "code",
   "execution_count": 17,
   "id": "8b71a657",
   "metadata": {},
   "outputs": [
    {
     "name": "stdout",
     "output_type": "stream",
     "text": [
      "Requirement already satisfied: xgboost in c:\\users\\asus\\anaconda3\\lib\\site-packages (2.0.3)\n",
      "Requirement already satisfied: numpy in c:\\users\\asus\\anaconda3\\lib\\site-packages (from xgboost) (1.24.3)\n",
      "Requirement already satisfied: scipy in c:\\users\\asus\\anaconda3\\lib\\site-packages (from xgboost) (1.10.1)\n"
     ]
    }
   ],
   "source": [
    "!pip install xgboost"
   ]
  },
  {
   "cell_type": "code",
   "execution_count": 18,
   "id": "ed3e72ae5421ea84",
   "metadata": {
    "ExecuteTime": {
     "end_time": "2024-02-18T21:23:50.221088400Z",
     "start_time": "2024-02-18T21:23:50.108624700Z"
    }
   },
   "outputs": [
    {
     "name": "stdout",
     "output_type": "stream",
     "text": [
      "Test seti doğruluğu: 0.9672131147540983\n",
      "Test seti hassasiyeti: 0.9578947368421052\n",
      "Test seti duyarlılığı: 0.978494623655914\n",
      "ROC AUC Score: 0.9893667861409797\n"
     ]
    }
   ],
   "source": [
    "from sklearn.model_selection import train_test_split\n",
    "from sklearn.metrics import accuracy_score, precision_score, recall_score, roc_auc_score\n",
    "\n",
    "import xgboost as xgb\n",
    "\n",
    "X_train, X_test, y_train, y_test = train_test_split(X_resampled, y_resampled, test_size=0.25, random_state=3)\n",
    "\n",
    "model = xgb.XGBClassifier()\n",
    "model.fit(X_train, y_train)\n",
    "\n",
    "y_pred = model.predict(X_test)\n",
    "accuracy = accuracy_score(y_test, y_pred)\n",
    "print(\"Test seti doğruluğu:\", accuracy)\n",
    "\n",
    "precision = precision_score(y_test, y_pred)\n",
    "print(\"Test seti hassasiyeti:\", precision)\n",
    "\n",
    "recall = recall_score(y_test, y_pred)\n",
    "print(\"Test seti duyarlılığı:\", recall)\n",
    "\n",
    "roc_auc = roc_auc_score(y_test, model.predict_proba(X_test)[:,1])\n",
    "print(\"ROC AUC Score:\", roc_auc)"
   ]
  },
  {
   "cell_type": "code",
   "execution_count": 19,
   "id": "713af35d9a47bdef",
   "metadata": {
    "ExecuteTime": {
     "end_time": "2024-02-18T21:23:50.287421700Z",
     "start_time": "2024-02-18T21:23:50.166175700Z"
    }
   },
   "outputs": [
    {
     "name": "stdout",
     "output_type": "stream",
     "text": [
      "Test seti doğruluğu: 0.9672131147540983\n",
      "Test seti hassasiyeti: 0.967741935483871\n",
      "Test seti duyarlılığı: 0.967741935483871\n",
      "ROC AUC Score: 0.9916367980884111\n"
     ]
    }
   ],
   "source": [
    "from sklearn.linear_model import LogisticRegression\n",
    "\n",
    "model = LogisticRegression()\n",
    "\n",
    "model.fit(X_train, y_train)\n",
    "\n",
    "y_pred = model.predict(X_test)\n",
    "\n",
    "accuracy = accuracy_score(y_test, y_pred)\n",
    "print(\"Test seti doğruluğu:\", accuracy)\n",
    "\n",
    "precision = precision_score(y_test, y_pred)\n",
    "print(\"Test seti hassasiyeti:\", precision)\n",
    "\n",
    "recall = recall_score(y_test, y_pred)\n",
    "print(\"Test seti duyarlılığı:\", recall)\n",
    "\n",
    "roc_auc = roc_auc_score(y_test, model.predict_proba(X_test)[:,1])\n",
    "print(\"ROC AUC Score:\", roc_auc)"
   ]
  },
  {
   "cell_type": "code",
   "execution_count": 20,
   "id": "fddaba56da9b80f",
   "metadata": {
    "ExecuteTime": {
     "end_time": "2024-02-18T21:23:50.407509900Z",
     "start_time": "2024-02-18T21:23:50.189842500Z"
    }
   },
   "outputs": [
    {
     "name": "stdout",
     "output_type": "stream",
     "text": [
      "Random Forest Test seti doğruluğu: 0.9726775956284153\n",
      "Random Forest Test seti hassasiyeti: 0.9680851063829787\n",
      "Random Forest Test seti duyarlılığı: 0.978494623655914\n",
      "Random Forest ROC AUC Score: 0.9925328554360813\n"
     ]
    }
   ],
   "source": [
    "from sklearn.ensemble import RandomForestClassifier\n",
    "\n",
    "rf_model = RandomForestClassifier()\n",
    "\n",
    "rf_model.fit(X_train, y_train)\n",
    "\n",
    "y_pred_rf = rf_model.predict(X_test)\n",
    "\n",
    "accuracy_rf = accuracy_score(y_test, y_pred_rf)\n",
    "print(\"Random Forest Test seti doğruluğu:\", accuracy_rf)\n",
    "\n",
    "precision_rf = precision_score(y_test, y_pred_rf)\n",
    "print(\"Random Forest Test seti hassasiyeti:\", precision_rf)\n",
    "\n",
    "recall_rf = recall_score(y_test, y_pred_rf)\n",
    "print(\"Random Forest Test seti duyarlılığı:\", recall_rf)\n",
    "\n",
    "roc_auc_rf = roc_auc_score(y_test, rf_model.predict_proba(X_test)[:,1])\n",
    "print(\"Random Forest ROC AUC Score:\", roc_auc_rf)"
   ]
  },
  {
   "cell_type": "code",
   "execution_count": 21,
   "id": "46a6da17ee39777f",
   "metadata": {
    "ExecuteTime": {
     "end_time": "2024-02-18T21:23:50.455679700Z",
     "start_time": "2024-02-18T21:23:50.296732800Z"
    }
   },
   "outputs": [
    {
     "name": "stdout",
     "output_type": "stream",
     "text": [
      "SVC Test seti doğruluğu: 0.9726775956284153\n",
      "SVC Test seti hassasiyeti: 0.9583333333333334\n",
      "SVC Test seti duyarlılığı: 0.989247311827957\n",
      "SVC ROC AUC Score: 0.9784946236559139\n"
     ]
    }
   ],
   "source": [
    "from sklearn.svm import SVC\n",
    "\n",
    "svc_model = SVC()\n",
    "\n",
    "svc_model.fit(X_train, y_train)\n",
    "\n",
    "y_pred_svc = svc_model.predict(X_test)\n",
    "\n",
    "accuracy_svc = accuracy_score(y_test, y_pred_svc)\n",
    "print(\"SVC Test seti doğruluğu:\", accuracy_svc)\n",
    "\n",
    "precision_svc = precision_score(y_test, y_pred_svc)\n",
    "print(\"SVC Test seti hassasiyeti:\", precision_svc)\n",
    "\n",
    "recall_svc = recall_score(y_test, y_pred_svc)\n",
    "print(\"SVC Test seti duyarlılığı:\", recall_svc)\n",
    "\n",
    "roc_auc_svc = roc_auc_score(y_test, svc_model.decision_function(X_test))\n",
    "print(\"SVC ROC AUC Score:\", roc_auc_svc)"
   ]
  },
  {
   "cell_type": "code",
   "execution_count": 22,
   "id": "876b4790091626cf",
   "metadata": {
    "ExecuteTime": {
     "end_time": "2024-02-18T21:23:51.891677700Z",
     "start_time": "2024-02-18T21:23:50.316996500Z"
    }
   },
   "outputs": [
    {
     "name": "stdout",
     "output_type": "stream",
     "text": [
      "MLP Test seti doğruluğu: 0.9617486338797814\n",
      "MLP Test seti hassasiyeti: 0.9574468085106383\n",
      "MLP Test seti duyarlılığı: 0.967741935483871\n",
      "MLP ROC AUC Score: 0.9860215053763441\n"
     ]
    }
   ],
   "source": [
    "from sklearn.neural_network import MLPClassifier\n",
    "\n",
    "mlp_model = MLPClassifier(max_iter=2000)\n",
    "\n",
    "mlp_model.fit(X_train, y_train)\n",
    "\n",
    "y_pred_mlp = mlp_model.predict(X_test)\n",
    "\n",
    "accuracy_mlp = accuracy_score(y_test, y_pred_mlp)\n",
    "print(\"MLP Test seti doğruluğu:\", accuracy_mlp)\n",
    "\n",
    "precision_mlp = precision_score(y_test, y_pred_mlp)\n",
    "print(\"MLP Test seti hassasiyeti:\", precision_mlp)\n",
    "\n",
    "recall_mlp = recall_score(y_test, y_pred_mlp)\n",
    "print(\"MLP Test seti duyarlılığı:\", recall_mlp)\n",
    "\n",
    "roc_auc_mlp = roc_auc_score(y_test, mlp_model.predict_proba(X_test)[:,1])\n",
    "print(\"MLP ROC AUC Score:\", roc_auc_mlp)"
   ]
  },
  {
   "cell_type": "code",
   "execution_count": 23,
   "id": "623bbd35",
   "metadata": {},
   "outputs": [
    {
     "name": "stdout",
     "output_type": "stream",
     "text": [
      "KNN Test seti doğruluğu: 0.9672131147540983\n",
      "KNN Test seti hassasiyeti: 0.967741935483871\n",
      "KNN Test seti duyarlılığı: 0.967741935483871\n",
      "KNN ROC AUC Score: 0.9862007168458781\n"
     ]
    }
   ],
   "source": [
    "from sklearn.preprocessing import StandardScaler\n",
    "from sklearn.neighbors import KNeighborsClassifier\n",
    "\n",
    "scaler = StandardScaler()\n",
    "X_train_scaled = scaler.fit_transform(X_train)\n",
    "X_test_scaled = scaler.transform(X_test)\n",
    "\n",
    "knn = KNeighborsClassifier(n_neighbors=3)\n",
    "knn.fit(X_train_scaled, y_train)\n",
    "\n",
    "y_pred = knn.predict(X_test_scaled)\n",
    "\n",
    "accuracy_knn = accuracy_score(y_test, y_pred)\n",
    "print(\"KNN Test seti doğruluğu:\", accuracy_knn)\n",
    "\n",
    "precision_knn = precision_score(y_test, y_pred)\n",
    "print(\"KNN Test seti hassasiyeti:\", precision_knn)\n",
    "\n",
    "recall_knn = recall_score(y_test, y_pred)\n",
    "print(\"KNN Test seti duyarlılığı:\", recall_knn)\n",
    "\n",
    "roc_auc_knn = roc_auc_score(y_test, knn.predict_proba(X_test_scaled)[:,1])\n",
    "print(\"KNN ROC AUC Score:\", roc_auc_knn)"
   ]
  },
  {
   "cell_type": "code",
   "execution_count": 24,
   "id": "55604e84",
   "metadata": {},
   "outputs": [
    {
     "name": "stdout",
     "output_type": "stream",
     "text": [
      "Naive Bayes Test seti doğruluğu: 0.9726775956284153\n",
      "Naive Bayes Test seti hassasiyeti: 0.9583333333333334\n",
      "Naive Bayes Test seti duyarlılığı: 0.989247311827957\n",
      "Naive Bayes ROC AUC Score: 0.9793906810035843\n"
     ]
    }
   ],
   "source": [
    "from sklearn.naive_bayes import GaussianNB\n",
    "\n",
    "nb_classifier = GaussianNB()\n",
    "nb_classifier.fit(X_train, y_train)\n",
    "\n",
    "y_pred = nb_classifier.predict(X_test)\n",
    "\n",
    "accuracy_nb = accuracy_score(y_test, y_pred)\n",
    "print(\"Naive Bayes Test seti doğruluğu:\", accuracy_nb)\n",
    "\n",
    "precision_nb = precision_score(y_test, y_pred)\n",
    "print(\"Naive Bayes Test seti hassasiyeti:\", precision_nb)\n",
    "\n",
    "recall_nb = recall_score(y_test, y_pred)\n",
    "print(\"Naive Bayes Test seti duyarlılığı:\", recall_nb)\n",
    "\n",
    "roc_auc_nb = roc_auc_score(y_test, nb_classifier.predict_proba(X_test)[:,1])\n",
    "print(\"Naive Bayes ROC AUC Score:\", roc_auc_nb)"
   ]
  }
 ],
 "metadata": {
  "kernelspec": {
   "display_name": "Python 3 (ipykernel)",
   "language": "python",
   "name": "python3"
  },
  "language_info": {
   "codemirror_mode": {
    "name": "ipython",
    "version": 3
   },
   "file_extension": ".py",
   "mimetype": "text/x-python",
   "name": "python",
   "nbconvert_exporter": "python",
   "pygments_lexer": "ipython3",
   "version": "3.11.4"
  }
 },
 "nbformat": 4,
 "nbformat_minor": 5
}

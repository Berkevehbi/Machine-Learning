{
 "cells": [
  {
   "cell_type": "code",
   "execution_count": 1,
   "id": "initial_id",
   "metadata": {
    "ExecuteTime": {
     "end_time": "2024-02-07T15:08:26.245106Z",
     "start_time": "2024-02-07T15:08:26.208088100Z"
    }
   },
   "outputs": [],
   "source": [
    "import pandas as pd\n",
    "import numpy as np"
   ]
  },
  {
   "cell_type": "code",
   "execution_count": 2,
   "id": "2364e2ca10378920",
   "metadata": {
    "ExecuteTime": {
     "end_time": "2024-02-07T15:08:26.285479200Z",
     "start_time": "2024-02-07T15:08:26.211101400Z"
    }
   },
   "outputs": [],
   "source": [
    "df = pd.read_csv('House.csv', encoding='latin-1')"
   ]
  },
  {
   "cell_type": "code",
   "execution_count": 3,
   "id": "16f5f2f5947e36c8",
   "metadata": {
    "ExecuteTime": {
     "end_time": "2024-02-07T15:08:26.285479200Z",
     "start_time": "2024-02-07T15:08:26.265032500Z"
    }
   },
   "outputs": [
    {
     "data": {
      "text/html": [
       "<div>\n",
       "<style scoped>\n",
       "    .dataframe tbody tr th:only-of-type {\n",
       "        vertical-align: middle;\n",
       "    }\n",
       "\n",
       "    .dataframe tbody tr th {\n",
       "        vertical-align: top;\n",
       "    }\n",
       "\n",
       "    .dataframe thead th {\n",
       "        text-align: right;\n",
       "    }\n",
       "</style>\n",
       "<table border=\"1\" class=\"dataframe\">\n",
       "  <thead>\n",
       "    <tr style=\"text-align: right;\">\n",
       "      <th></th>\n",
       "      <th>City</th>\n",
       "      <th>Price</th>\n",
       "      <th>Address</th>\n",
       "      <th>Number_Beds</th>\n",
       "      <th>Number_Baths</th>\n",
       "      <th>Province</th>\n",
       "      <th>Population</th>\n",
       "      <th>Latitude</th>\n",
       "      <th>Longitude</th>\n",
       "      <th>Median_Family_Income</th>\n",
       "    </tr>\n",
       "  </thead>\n",
       "  <tbody>\n",
       "    <tr>\n",
       "      <th>0</th>\n",
       "      <td>Toronto</td>\n",
       "      <td>779900.0</td>\n",
       "      <td>#318 -20 SOUTHPORT ST</td>\n",
       "      <td>3</td>\n",
       "      <td>2</td>\n",
       "      <td>Ontario</td>\n",
       "      <td>5647656</td>\n",
       "      <td>43.7417</td>\n",
       "      <td>-79.3733</td>\n",
       "      <td>97000.0</td>\n",
       "    </tr>\n",
       "    <tr>\n",
       "      <th>1</th>\n",
       "      <td>Toronto</td>\n",
       "      <td>799999.0</td>\n",
       "      <td>#818 -60 SOUTHPORT ST</td>\n",
       "      <td>3</td>\n",
       "      <td>1</td>\n",
       "      <td>Ontario</td>\n",
       "      <td>5647656</td>\n",
       "      <td>43.7417</td>\n",
       "      <td>-79.3733</td>\n",
       "      <td>97000.0</td>\n",
       "    </tr>\n",
       "    <tr>\n",
       "      <th>2</th>\n",
       "      <td>Toronto</td>\n",
       "      <td>799900.0</td>\n",
       "      <td>#714 -859 THE QUEENSWAY</td>\n",
       "      <td>2</td>\n",
       "      <td>2</td>\n",
       "      <td>Ontario</td>\n",
       "      <td>5647656</td>\n",
       "      <td>43.7417</td>\n",
       "      <td>-79.3733</td>\n",
       "      <td>97000.0</td>\n",
       "    </tr>\n",
       "    <tr>\n",
       "      <th>3</th>\n",
       "      <td>Toronto</td>\n",
       "      <td>1200000.0</td>\n",
       "      <td>275 MORTIMER AVE</td>\n",
       "      <td>4</td>\n",
       "      <td>2</td>\n",
       "      <td>Ontario</td>\n",
       "      <td>5647656</td>\n",
       "      <td>43.7417</td>\n",
       "      <td>-79.3733</td>\n",
       "      <td>97000.0</td>\n",
       "    </tr>\n",
       "    <tr>\n",
       "      <th>4</th>\n",
       "      <td>Toronto</td>\n",
       "      <td>668800.0</td>\n",
       "      <td>#420 -388 RICHMOND ST</td>\n",
       "      <td>1</td>\n",
       "      <td>1</td>\n",
       "      <td>Ontario</td>\n",
       "      <td>5647656</td>\n",
       "      <td>43.7417</td>\n",
       "      <td>-79.3733</td>\n",
       "      <td>97000.0</td>\n",
       "    </tr>\n",
       "  </tbody>\n",
       "</table>\n",
       "</div>"
      ],
      "text/plain": [
       "      City      Price                  Address  Number_Beds  Number_Baths  \\\n",
       "0  Toronto   779900.0    #318 -20 SOUTHPORT ST            3             2   \n",
       "1  Toronto   799999.0    #818 -60 SOUTHPORT ST            3             1   \n",
       "2  Toronto   799900.0  #714 -859 THE QUEENSWAY            2             2   \n",
       "3  Toronto  1200000.0         275 MORTIMER AVE            4             2   \n",
       "4  Toronto   668800.0    #420 -388 RICHMOND ST            1             1   \n",
       "\n",
       "  Province  Population  Latitude  Longitude  Median_Family_Income  \n",
       "0  Ontario     5647656   43.7417   -79.3733               97000.0  \n",
       "1  Ontario     5647656   43.7417   -79.3733               97000.0  \n",
       "2  Ontario     5647656   43.7417   -79.3733               97000.0  \n",
       "3  Ontario     5647656   43.7417   -79.3733               97000.0  \n",
       "4  Ontario     5647656   43.7417   -79.3733               97000.0  "
      ]
     },
     "execution_count": 3,
     "metadata": {},
     "output_type": "execute_result"
    }
   ],
   "source": [
    "df.head()"
   ]
  },
  {
   "cell_type": "code",
   "execution_count": 4,
   "id": "37fea5442cb4d972",
   "metadata": {
    "ExecuteTime": {
     "end_time": "2024-02-07T15:08:26.286484300Z",
     "start_time": "2024-02-07T15:08:26.272792500Z"
    }
   },
   "outputs": [
    {
     "data": {
      "text/plain": [
       "(35768, 10)"
      ]
     },
     "execution_count": 4,
     "metadata": {},
     "output_type": "execute_result"
    }
   ],
   "source": [
    "df.shape"
   ]
  },
  {
   "cell_type": "code",
   "execution_count": 5,
   "id": "24e00e0d3ce38307",
   "metadata": {
    "ExecuteTime": {
     "end_time": "2024-02-07T15:08:26.286484300Z",
     "start_time": "2024-02-07T15:08:26.277817400Z"
    }
   },
   "outputs": [
    {
     "data": {
      "text/plain": [
       "City                     object\n",
       "Price                   float64\n",
       "Address                  object\n",
       "Number_Beds               int64\n",
       "Number_Baths              int64\n",
       "Province                 object\n",
       "Population                int64\n",
       "Latitude                float64\n",
       "Longitude               float64\n",
       "Median_Family_Income    float64\n",
       "dtype: object"
      ]
     },
     "execution_count": 5,
     "metadata": {},
     "output_type": "execute_result"
    }
   ],
   "source": [
    "df.dtypes"
   ]
  },
  {
   "cell_type": "code",
   "execution_count": 6,
   "id": "7aa6d5c2f6bd081c",
   "metadata": {
    "ExecuteTime": {
     "end_time": "2024-02-07T15:08:26.288485100Z",
     "start_time": "2024-02-07T15:08:26.283947100Z"
    }
   },
   "outputs": [
    {
     "data": {
      "text/plain": [
       "Index(['City', 'Price', 'Address', 'Number_Beds', 'Number_Baths', 'Province',\n",
       "       'Population', 'Latitude', 'Longitude', 'Median_Family_Income'],\n",
       "      dtype='object')"
      ]
     },
     "execution_count": 6,
     "metadata": {},
     "output_type": "execute_result"
    }
   ],
   "source": [
    "df.columns"
   ]
  },
  {
   "cell_type": "code",
   "execution_count": 7,
   "id": "4a970d977bdbc316",
   "metadata": {
    "ExecuteTime": {
     "end_time": "2024-02-07T15:08:26.297838500Z",
     "start_time": "2024-02-07T15:08:26.287484600Z"
    }
   },
   "outputs": [
    {
     "data": {
      "text/plain": [
       "City                    0\n",
       "Price                   0\n",
       "Address                 0\n",
       "Number_Beds             0\n",
       "Number_Baths            0\n",
       "Province                0\n",
       "Population              0\n",
       "Latitude                0\n",
       "Longitude               0\n",
       "Median_Family_Income    0\n",
       "dtype: int64"
      ]
     },
     "execution_count": 7,
     "metadata": {},
     "output_type": "execute_result"
    }
   ],
   "source": [
    "df.isnull().sum()\n",
    "\n",
    "# There is no null info."
   ]
  },
  {
   "cell_type": "code",
   "execution_count": 8,
   "id": "848f348f388ff046",
   "metadata": {
    "ExecuteTime": {
     "end_time": "2024-02-07T15:08:26.352479900Z",
     "start_time": "2024-02-07T15:08:26.295840Z"
    }
   },
   "outputs": [
    {
     "data": {
      "text/html": [
       "<div>\n",
       "<style scoped>\n",
       "    .dataframe tbody tr th:only-of-type {\n",
       "        vertical-align: middle;\n",
       "    }\n",
       "\n",
       "    .dataframe tbody tr th {\n",
       "        vertical-align: top;\n",
       "    }\n",
       "\n",
       "    .dataframe thead th {\n",
       "        text-align: right;\n",
       "    }\n",
       "</style>\n",
       "<table border=\"1\" class=\"dataframe\">\n",
       "  <thead>\n",
       "    <tr style=\"text-align: right;\">\n",
       "      <th></th>\n",
       "      <th>Price</th>\n",
       "      <th>Number_Beds</th>\n",
       "      <th>Number_Baths</th>\n",
       "      <th>Population</th>\n",
       "      <th>Latitude</th>\n",
       "      <th>Longitude</th>\n",
       "      <th>Median_Family_Income</th>\n",
       "    </tr>\n",
       "  </thead>\n",
       "  <tbody>\n",
       "    <tr>\n",
       "      <th>count</th>\n",
       "      <td>3.576800e+04</td>\n",
       "      <td>35768.000000</td>\n",
       "      <td>35768.000000</td>\n",
       "      <td>3.576800e+04</td>\n",
       "      <td>35768.000000</td>\n",
       "      <td>35768.000000</td>\n",
       "      <td>35768.000000</td>\n",
       "    </tr>\n",
       "    <tr>\n",
       "      <th>mean</th>\n",
       "      <td>9.432963e+05</td>\n",
       "      <td>3.283661</td>\n",
       "      <td>2.532403</td>\n",
       "      <td>6.360151e+05</td>\n",
       "      <td>47.446556</td>\n",
       "      <td>-98.421636</td>\n",
       "      <td>89643.103416</td>\n",
       "    </tr>\n",
       "    <tr>\n",
       "      <th>std</th>\n",
       "      <td>1.020110e+06</td>\n",
       "      <td>1.730654</td>\n",
       "      <td>1.371910</td>\n",
       "      <td>1.120016e+06</td>\n",
       "      <td>3.333855</td>\n",
       "      <td>22.280935</td>\n",
       "      <td>12132.353510</td>\n",
       "    </tr>\n",
       "    <tr>\n",
       "      <th>min</th>\n",
       "      <td>2.150000e+04</td>\n",
       "      <td>0.000000</td>\n",
       "      <td>0.000000</td>\n",
       "      <td>6.338200e+04</td>\n",
       "      <td>42.283300</td>\n",
       "      <td>-123.936400</td>\n",
       "      <td>62400.000000</td>\n",
       "    </tr>\n",
       "    <tr>\n",
       "      <th>25%</th>\n",
       "      <td>4.599000e+05</td>\n",
       "      <td>2.000000</td>\n",
       "      <td>2.000000</td>\n",
       "      <td>1.091670e+05</td>\n",
       "      <td>43.866700</td>\n",
       "      <td>-122.316700</td>\n",
       "      <td>82000.000000</td>\n",
       "    </tr>\n",
       "    <tr>\n",
       "      <th>50%</th>\n",
       "      <td>6.990000e+05</td>\n",
       "      <td>3.000000</td>\n",
       "      <td>2.000000</td>\n",
       "      <td>2.424600e+05</td>\n",
       "      <td>49.025000</td>\n",
       "      <td>-104.606700</td>\n",
       "      <td>89000.000000</td>\n",
       "    </tr>\n",
       "    <tr>\n",
       "      <th>75%</th>\n",
       "      <td>1.095000e+06</td>\n",
       "      <td>4.000000</td>\n",
       "      <td>3.000000</td>\n",
       "      <td>5.228880e+05</td>\n",
       "      <td>49.888100</td>\n",
       "      <td>-79.866700</td>\n",
       "      <td>97000.000000</td>\n",
       "    </tr>\n",
       "    <tr>\n",
       "      <th>max</th>\n",
       "      <td>3.700000e+07</td>\n",
       "      <td>109.000000</td>\n",
       "      <td>59.000000</td>\n",
       "      <td>5.647656e+06</td>\n",
       "      <td>53.916900</td>\n",
       "      <td>63.100500</td>\n",
       "      <td>133000.000000</td>\n",
       "    </tr>\n",
       "  </tbody>\n",
       "</table>\n",
       "</div>"
      ],
      "text/plain": [
       "              Price   Number_Beds  Number_Baths    Population      Latitude  \\\n",
       "count  3.576800e+04  35768.000000  35768.000000  3.576800e+04  35768.000000   \n",
       "mean   9.432963e+05      3.283661      2.532403  6.360151e+05     47.446556   \n",
       "std    1.020110e+06      1.730654      1.371910  1.120016e+06      3.333855   \n",
       "min    2.150000e+04      0.000000      0.000000  6.338200e+04     42.283300   \n",
       "25%    4.599000e+05      2.000000      2.000000  1.091670e+05     43.866700   \n",
       "50%    6.990000e+05      3.000000      2.000000  2.424600e+05     49.025000   \n",
       "75%    1.095000e+06      4.000000      3.000000  5.228880e+05     49.888100   \n",
       "max    3.700000e+07    109.000000     59.000000  5.647656e+06     53.916900   \n",
       "\n",
       "          Longitude  Median_Family_Income  \n",
       "count  35768.000000          35768.000000  \n",
       "mean     -98.421636          89643.103416  \n",
       "std       22.280935          12132.353510  \n",
       "min     -123.936400          62400.000000  \n",
       "25%     -122.316700          82000.000000  \n",
       "50%     -104.606700          89000.000000  \n",
       "75%      -79.866700          97000.000000  \n",
       "max       63.100500         133000.000000  "
      ]
     },
     "execution_count": 8,
     "metadata": {},
     "output_type": "execute_result"
    }
   ],
   "source": [
    "df.describe()"
   ]
  },
  {
   "cell_type": "code",
   "execution_count": 9,
   "id": "befad01b20e0cc13",
   "metadata": {
    "ExecuteTime": {
     "end_time": "2024-02-07T15:08:26.370478Z",
     "start_time": "2024-02-07T15:08:26.317518500Z"
    }
   },
   "outputs": [],
   "source": [
    "import matplotlib.pyplot as plt"
   ]
  },
  {
   "cell_type": "code",
   "execution_count": 10,
   "id": "8be29cc4d8235254",
   "metadata": {
    "ExecuteTime": {
     "end_time": "2024-02-07T15:08:26.563465800Z",
     "start_time": "2024-02-07T15:08:26.322472Z"
    }
   },
   "outputs": [
    {
     "data": {
      "image/png": "[encoded data removed]",
      "text/plain": [
       "<Figure size 1000x600 with 1 Axes>"
      ]
     },
     "metadata": {},
     "output_type": "display_data"
    }
   ],
   "source": [
    "plt.figure(figsize=(10, 6))\n",
    "plt.hist(df['Price'], bins=20, log=True)\n",
    "plt.xlim(2150, 37000000)\n",
    "plt.xlabel('Price')\n",
    "plt.show()"
   ]
  },
  {
   "cell_type": "code",
   "execution_count": 11,
   "id": "8d0754c7638e681d",
   "metadata": {
    "ExecuteTime": {
     "end_time": "2024-02-07T15:08:26.781369400Z",
     "start_time": "2024-02-07T15:08:26.568468900Z"
    }
   },
   "outputs": [
    {
     "data": {
      "image/png": "[encoded data removed]",
      "text/plain": [
       "<Figure size 1000x600 with 1 Axes>"
      ]
     },
     "metadata": {},
     "output_type": "display_data"
    }
   ],
   "source": [
    "plt.figure(figsize=(10, 6))\n",
    "plt.hist(df['Number_Beds'], bins=200)\n",
    "plt.xlim(0, 5.5)\n",
    "plt.xlabel('Number of Beds')\n",
    "plt.show()"
   ]
  },
  {
   "cell_type": "code",
   "execution_count": 12,
   "id": "3eb8763fcf2ac939",
   "metadata": {
    "ExecuteTime": {
     "end_time": "2024-02-07T15:08:27.005499200Z",
     "start_time": "2024-02-07T15:08:26.780369100Z"
    }
   },
   "outputs": [
    {
     "data": {
      "image/png": "[encoded data removed]",
      "text/plain": [
       "<Figure size 1000x600 with 1 Axes>"
      ]
     },
     "metadata": {},
     "output_type": "display_data"
    }
   ],
   "source": [
    "plt.figure(figsize=(10, 6))\n",
    "plt.hist(df['Number_Baths'], bins=200)\n",
    "plt.xlim(0, 5.5)\n",
    "plt.xlabel('Number of Baths')\n",
    "plt.show()"
   ]
  },
  {
   "cell_type": "code",
   "execution_count": 13,
   "id": "88136abfa65951bd",
   "metadata": {
    "ExecuteTime": {
     "end_time": "2024-02-07T15:08:27.092495500Z",
     "start_time": "2024-02-07T15:08:27.010500400Z"
    }
   },
   "outputs": [
    {
     "data": {
      "image/png": "[encoded data removed]",
      "text/plain": [
       "<Figure size 1000x600 with 1 Axes>"
      ]
     },
     "metadata": {},
     "output_type": "display_data"
    }
   ],
   "source": [
    "plt.figure(figsize=(10, 6))\n",
    "plt.hist(df['Population'], bins=20)\n",
    "plt.xlabel('Population')\n",
    "plt.show()"
   ]
  },
  {
   "cell_type": "code",
   "execution_count": 14,
   "id": "f7397eeb798f49e1",
   "metadata": {
    "ExecuteTime": {
     "end_time": "2024-02-07T15:08:27.193180900Z",
     "start_time": "2024-02-07T15:08:27.096494600Z"
    }
   },
   "outputs": [
    {
     "data": {
      "image/png": "[encoded data removed]",
      "text/plain": [
       "<Figure size 1000x600 with 1 Axes>"
      ]
     },
     "metadata": {},
     "output_type": "display_data"
    }
   ],
   "source": [
    "plt.figure(figsize=(10, 6))\n",
    "plt.hist(df['Median_Family_Income'], bins=20)\n",
    "plt.xlabel('Median Family Income')\n",
    "plt.show()"
   ]
  },
  {
   "cell_type": "code",
   "execution_count": 15,
   "id": "519e3132f5905afd",
   "metadata": {
    "ExecuteTime": {
     "end_time": "2024-02-07T15:08:27.203310600Z",
     "start_time": "2024-02-07T15:08:27.193180900Z"
    }
   },
   "outputs": [
    {
     "data": {
      "text/plain": [
       "(31379, 35768)"
      ]
     },
     "execution_count": 15,
     "metadata": {},
     "output_type": "execute_result"
    }
   ],
   "source": [
    "df['Address'].nunique(), len(df['Address'])\n",
    "\n",
    "# There are too many unique values here so we have to remove this column"
   ]
  },
  {
   "cell_type": "code",
   "execution_count": 16,
   "id": "bcf70bd6f725c5ae",
   "metadata": {
    "ExecuteTime": {
     "end_time": "2024-02-07T15:08:27.211679300Z",
     "start_time": "2024-02-07T15:08:27.204307300Z"
    }
   },
   "outputs": [],
   "source": [
    "df.drop('Address', axis=1, inplace=True)\n",
    "df.drop('Population', axis=1, inplace=True)"
   ]
  },
  {
   "cell_type": "code",
   "execution_count": 17,
   "id": "b717f8d8c4b4ef6",
   "metadata": {
    "ExecuteTime": {
     "end_time": "2024-02-07T15:08:27.288105Z",
     "start_time": "2024-02-07T15:08:27.208680600Z"
    }
   },
   "outputs": [
    {
     "data": {
      "text/html": [
       "<div>\n",
       "<style scoped>\n",
       "    .dataframe tbody tr th:only-of-type {\n",
       "        vertical-align: middle;\n",
       "    }\n",
       "\n",
       "    .dataframe tbody tr th {\n",
       "        vertical-align: top;\n",
       "    }\n",
       "\n",
       "    .dataframe thead th {\n",
       "        text-align: right;\n",
       "    }\n",
       "</style>\n",
       "<table border=\"1\" class=\"dataframe\">\n",
       "  <thead>\n",
       "    <tr style=\"text-align: right;\">\n",
       "      <th></th>\n",
       "      <th>City</th>\n",
       "      <th>Price</th>\n",
       "      <th>Number_Beds</th>\n",
       "      <th>Number_Baths</th>\n",
       "      <th>Province</th>\n",
       "      <th>Latitude</th>\n",
       "      <th>Longitude</th>\n",
       "      <th>Median_Family_Income</th>\n",
       "    </tr>\n",
       "  </thead>\n",
       "  <tbody>\n",
       "    <tr>\n",
       "      <th>0</th>\n",
       "      <td>Toronto</td>\n",
       "      <td>779900.0</td>\n",
       "      <td>3</td>\n",
       "      <td>2</td>\n",
       "      <td>Ontario</td>\n",
       "      <td>43.7417</td>\n",
       "      <td>-79.3733</td>\n",
       "      <td>97000.0</td>\n",
       "    </tr>\n",
       "    <tr>\n",
       "      <th>1</th>\n",
       "      <td>Toronto</td>\n",
       "      <td>799999.0</td>\n",
       "      <td>3</td>\n",
       "      <td>1</td>\n",
       "      <td>Ontario</td>\n",
       "      <td>43.7417</td>\n",
       "      <td>-79.3733</td>\n",
       "      <td>97000.0</td>\n",
       "    </tr>\n",
       "    <tr>\n",
       "      <th>2</th>\n",
       "      <td>Toronto</td>\n",
       "      <td>799900.0</td>\n",
       "      <td>2</td>\n",
       "      <td>2</td>\n",
       "      <td>Ontario</td>\n",
       "      <td>43.7417</td>\n",
       "      <td>-79.3733</td>\n",
       "      <td>97000.0</td>\n",
       "    </tr>\n",
       "    <tr>\n",
       "      <th>3</th>\n",
       "      <td>Toronto</td>\n",
       "      <td>1200000.0</td>\n",
       "      <td>4</td>\n",
       "      <td>2</td>\n",
       "      <td>Ontario</td>\n",
       "      <td>43.7417</td>\n",
       "      <td>-79.3733</td>\n",
       "      <td>97000.0</td>\n",
       "    </tr>\n",
       "    <tr>\n",
       "      <th>4</th>\n",
       "      <td>Toronto</td>\n",
       "      <td>668800.0</td>\n",
       "      <td>1</td>\n",
       "      <td>1</td>\n",
       "      <td>Ontario</td>\n",
       "      <td>43.7417</td>\n",
       "      <td>-79.3733</td>\n",
       "      <td>97000.0</td>\n",
       "    </tr>\n",
       "  </tbody>\n",
       "</table>\n",
       "</div>"
      ],
      "text/plain": [
       "      City      Price  Number_Beds  Number_Baths Province  Latitude  \\\n",
       "0  Toronto   779900.0            3             2  Ontario   43.7417   \n",
       "1  Toronto   799999.0            3             1  Ontario   43.7417   \n",
       "2  Toronto   799900.0            2             2  Ontario   43.7417   \n",
       "3  Toronto  1200000.0            4             2  Ontario   43.7417   \n",
       "4  Toronto   668800.0            1             1  Ontario   43.7417   \n",
       "\n",
       "   Longitude  Median_Family_Income  \n",
       "0   -79.3733               97000.0  \n",
       "1   -79.3733               97000.0  \n",
       "2   -79.3733               97000.0  \n",
       "3   -79.3733               97000.0  \n",
       "4   -79.3733               97000.0  "
      ]
     },
     "execution_count": 17,
     "metadata": {},
     "output_type": "execute_result"
    }
   ],
   "source": [
    "df.head()"
   ]
  },
  {
   "cell_type": "code",
   "execution_count": 18,
   "id": "2f1dadf36a1655bd",
   "metadata": {
    "ExecuteTime": {
     "end_time": "2024-02-07T15:08:27.289107Z",
     "start_time": "2024-02-07T15:08:27.218937800Z"
    }
   },
   "outputs": [],
   "source": [
    "df.drop('Province', axis=1, inplace=True)\n",
    "\n",
    "# I discarded this column because we have the latitude longitude and city column."
   ]
  },
  {
   "cell_type": "code",
   "execution_count": 19,
   "id": "d1a1fd063ef33fd0",
   "metadata": {
    "ExecuteTime": {
     "end_time": "2024-02-07T15:50:50.896765700Z",
     "start_time": "2024-02-07T15:50:50.668346500Z"
    }
   },
   "outputs": [
    {
     "data": {
      "text/plain": [
       "<Axes: xlabel='Price'>"
      ]
     },
     "execution_count": 19,
     "metadata": {},
     "output_type": "execute_result"
    },
    {
     "data": {
      "image/png": "[encoded data removed]",
      "text/plain": [
       "<Figure size 640x480 with 1 Axes>"
      ]
     },
     "metadata": {},
     "output_type": "display_data"
    }
   ],
   "source": [
    "import seaborn as sns\n",
    "\n",
    "sns.boxplot(x = df['Price'])"
   ]
  },
  {
   "cell_type": "code",
   "execution_count": 20,
   "id": "70eeebec2bc12d76",
   "metadata": {
    "ExecuteTime": {
     "end_time": "2024-02-07T15:54:54.055214200Z",
     "start_time": "2024-02-07T15:54:54.040681600Z"
    }
   },
   "outputs": [
    {
     "data": {
      "text/plain": [
       "(2470, 7)"
      ]
     },
     "execution_count": 20,
     "metadata": {},
     "output_type": "execute_result"
    }
   ],
   "source": [
    "Q1 = df['Price'].quantile(0.25)\n",
    "Q3 = df['Price'].quantile(0.75)\n",
    "\n",
    "IQR = Q3 - Q1\n",
    "\n",
    "low_bound = Q1 - 1.5 * IQR\n",
    "high_bound = Q3 + 1.5 * IQR\n",
    "\n",
    "outlier = df[(df['Price'] < low_bound) | (df['Price'] > high_bound)]\n",
    "\n",
    "outlier.shape\n",
    "\n",
    "# There are too many outliers, so I decided to remove them."
   ]
  },
  {
   "cell_type": "code",
   "execution_count": 21,
   "id": "ebb7471605f54456",
   "metadata": {
    "ExecuteTime": {
     "end_time": "2024-02-07T15:57:10.856412800Z",
     "start_time": "2024-02-07T15:57:10.834740100Z"
    }
   },
   "outputs": [],
   "source": [
    "df = df[(df['Price'] >= low_bound) & (df['Price'] <= high_bound)]\n"
   ]
  },
  {
   "cell_type": "code",
   "execution_count": 22,
   "id": "12e7ffe7cd54c35a",
   "metadata": {
    "ExecuteTime": {
     "end_time": "2024-02-07T15:57:15.382194500Z",
     "start_time": "2024-02-07T15:57:15.367184600Z"
    }
   },
   "outputs": [
    {
     "data": {
      "text/plain": [
       "(33298, 7)"
      ]
     },
     "execution_count": 22,
     "metadata": {},
     "output_type": "execute_result"
    }
   ],
   "source": [
    "df.shape"
   ]
  },
  {
   "cell_type": "code",
   "execution_count": 23,
   "id": "f04e05f33ac8c417",
   "metadata": {
    "ExecuteTime": {
     "end_time": "2024-02-07T18:36:56.090335Z",
     "start_time": "2024-02-07T18:36:55.885405300Z"
    }
   },
   "outputs": [
    {
     "data": {
      "text/html": [
       "<div>\n",
       "<style scoped>\n",
       "    .dataframe tbody tr th:only-of-type {\n",
       "        vertical-align: middle;\n",
       "    }\n",
       "\n",
       "    .dataframe tbody tr th {\n",
       "        vertical-align: top;\n",
       "    }\n",
       "\n",
       "    .dataframe thead th {\n",
       "        text-align: right;\n",
       "    }\n",
       "</style>\n",
       "<table border=\"1\" class=\"dataframe\">\n",
       "  <thead>\n",
       "    <tr style=\"text-align: right;\">\n",
       "      <th></th>\n",
       "      <th>City</th>\n",
       "      <th>Price</th>\n",
       "      <th>Number_Beds</th>\n",
       "      <th>Number_Baths</th>\n",
       "      <th>Latitude</th>\n",
       "      <th>Longitude</th>\n",
       "      <th>Median_Family_Income</th>\n",
       "    </tr>\n",
       "  </thead>\n",
       "  <tbody>\n",
       "    <tr>\n",
       "      <th>0</th>\n",
       "      <td>Toronto</td>\n",
       "      <td>779900.0</td>\n",
       "      <td>3</td>\n",
       "      <td>2</td>\n",
       "      <td>43.7417</td>\n",
       "      <td>-79.3733</td>\n",
       "      <td>97000.0</td>\n",
       "    </tr>\n",
       "    <tr>\n",
       "      <th>1</th>\n",
       "      <td>Toronto</td>\n",
       "      <td>799999.0</td>\n",
       "      <td>3</td>\n",
       "      <td>1</td>\n",
       "      <td>43.7417</td>\n",
       "      <td>-79.3733</td>\n",
       "      <td>97000.0</td>\n",
       "    </tr>\n",
       "    <tr>\n",
       "      <th>2</th>\n",
       "      <td>Toronto</td>\n",
       "      <td>799900.0</td>\n",
       "      <td>2</td>\n",
       "      <td>2</td>\n",
       "      <td>43.7417</td>\n",
       "      <td>-79.3733</td>\n",
       "      <td>97000.0</td>\n",
       "    </tr>\n",
       "    <tr>\n",
       "      <th>3</th>\n",
       "      <td>Toronto</td>\n",
       "      <td>1200000.0</td>\n",
       "      <td>4</td>\n",
       "      <td>2</td>\n",
       "      <td>43.7417</td>\n",
       "      <td>-79.3733</td>\n",
       "      <td>97000.0</td>\n",
       "    </tr>\n",
       "    <tr>\n",
       "      <th>4</th>\n",
       "      <td>Toronto</td>\n",
       "      <td>668800.0</td>\n",
       "      <td>1</td>\n",
       "      <td>1</td>\n",
       "      <td>43.7417</td>\n",
       "      <td>-79.3733</td>\n",
       "      <td>97000.0</td>\n",
       "    </tr>\n",
       "  </tbody>\n",
       "</table>\n",
       "</div>"
      ],
      "text/plain": [
       "      City      Price  Number_Beds  Number_Baths  Latitude  Longitude  \\\n",
       "0  Toronto   779900.0            3             2   43.7417   -79.3733   \n",
       "1  Toronto   799999.0            3             1   43.7417   -79.3733   \n",
       "2  Toronto   799900.0            2             2   43.7417   -79.3733   \n",
       "3  Toronto  1200000.0            4             2   43.7417   -79.3733   \n",
       "4  Toronto   668800.0            1             1   43.7417   -79.3733   \n",
       "\n",
       "   Median_Family_Income  \n",
       "0               97000.0  \n",
       "1               97000.0  \n",
       "2               97000.0  \n",
       "3               97000.0  \n",
       "4               97000.0  "
      ]
     },
     "execution_count": 23,
     "metadata": {},
     "output_type": "execute_result"
    }
   ],
   "source": [
    "df.head()"
   ]
  },
  {
   "cell_type": "code",
   "execution_count": 24,
   "id": "5d58b4fc",
   "metadata": {},
   "outputs": [],
   "source": [
    "df = pd.get_dummies(df)"
   ]
  },
  {
   "cell_type": "code",
   "execution_count": 25,
   "id": "2d10275c",
   "metadata": {
    "scrolled": true
   },
   "outputs": [
    {
     "data": {
      "text/html": [
       "<div>\n",
       "<style scoped>\n",
       "    .dataframe tbody tr th:only-of-type {\n",
       "        vertical-align: middle;\n",
       "    }\n",
       "\n",
       "    .dataframe tbody tr th {\n",
       "        vertical-align: top;\n",
       "    }\n",
       "\n",
       "    .dataframe thead th {\n",
       "        text-align: right;\n",
       "    }\n",
       "</style>\n",
       "<table border=\"1\" class=\"dataframe\">\n",
       "  <thead>\n",
       "    <tr style=\"text-align: right;\">\n",
       "      <th></th>\n",
       "      <th>Price</th>\n",
       "      <th>Number_Beds</th>\n",
       "      <th>Number_Baths</th>\n",
       "      <th>Latitude</th>\n",
       "      <th>Longitude</th>\n",
       "      <th>Median_Family_Income</th>\n",
       "      <th>City_Abbotsford</th>\n",
       "      <th>City_Airdrie</th>\n",
       "      <th>City_Barrie</th>\n",
       "      <th>City_Brantford</th>\n",
       "      <th>...</th>\n",
       "      <th>City_St. John's</th>\n",
       "      <th>City_Sudbury</th>\n",
       "      <th>City_Thunder Bay</th>\n",
       "      <th>City_Toronto</th>\n",
       "      <th>City_Trois-Rivieres</th>\n",
       "      <th>City_Vancouver</th>\n",
       "      <th>City_Victoria</th>\n",
       "      <th>City_White Rock</th>\n",
       "      <th>City_Windsor</th>\n",
       "      <th>City_Winnipeg</th>\n",
       "    </tr>\n",
       "  </thead>\n",
       "  <tbody>\n",
       "    <tr>\n",
       "      <th>0</th>\n",
       "      <td>779900.0</td>\n",
       "      <td>3</td>\n",
       "      <td>2</td>\n",
       "      <td>43.7417</td>\n",
       "      <td>-79.3733</td>\n",
       "      <td>97000.0</td>\n",
       "      <td>0</td>\n",
       "      <td>0</td>\n",
       "      <td>0</td>\n",
       "      <td>0</td>\n",
       "      <td>...</td>\n",
       "      <td>0</td>\n",
       "      <td>0</td>\n",
       "      <td>0</td>\n",
       "      <td>1</td>\n",
       "      <td>0</td>\n",
       "      <td>0</td>\n",
       "      <td>0</td>\n",
       "      <td>0</td>\n",
       "      <td>0</td>\n",
       "      <td>0</td>\n",
       "    </tr>\n",
       "    <tr>\n",
       "      <th>1</th>\n",
       "      <td>799999.0</td>\n",
       "      <td>3</td>\n",
       "      <td>1</td>\n",
       "      <td>43.7417</td>\n",
       "      <td>-79.3733</td>\n",
       "      <td>97000.0</td>\n",
       "      <td>0</td>\n",
       "      <td>0</td>\n",
       "      <td>0</td>\n",
       "      <td>0</td>\n",
       "      <td>...</td>\n",
       "      <td>0</td>\n",
       "      <td>0</td>\n",
       "      <td>0</td>\n",
       "      <td>1</td>\n",
       "      <td>0</td>\n",
       "      <td>0</td>\n",
       "      <td>0</td>\n",
       "      <td>0</td>\n",
       "      <td>0</td>\n",
       "      <td>0</td>\n",
       "    </tr>\n",
       "    <tr>\n",
       "      <th>2</th>\n",
       "      <td>799900.0</td>\n",
       "      <td>2</td>\n",
       "      <td>2</td>\n",
       "      <td>43.7417</td>\n",
       "      <td>-79.3733</td>\n",
       "      <td>97000.0</td>\n",
       "      <td>0</td>\n",
       "      <td>0</td>\n",
       "      <td>0</td>\n",
       "      <td>0</td>\n",
       "      <td>...</td>\n",
       "      <td>0</td>\n",
       "      <td>0</td>\n",
       "      <td>0</td>\n",
       "      <td>1</td>\n",
       "      <td>0</td>\n",
       "      <td>0</td>\n",
       "      <td>0</td>\n",
       "      <td>0</td>\n",
       "      <td>0</td>\n",
       "      <td>0</td>\n",
       "    </tr>\n",
       "    <tr>\n",
       "      <th>3</th>\n",
       "      <td>1200000.0</td>\n",
       "      <td>4</td>\n",
       "      <td>2</td>\n",
       "      <td>43.7417</td>\n",
       "      <td>-79.3733</td>\n",
       "      <td>97000.0</td>\n",
       "      <td>0</td>\n",
       "      <td>0</td>\n",
       "      <td>0</td>\n",
       "      <td>0</td>\n",
       "      <td>...</td>\n",
       "      <td>0</td>\n",
       "      <td>0</td>\n",
       "      <td>0</td>\n",
       "      <td>1</td>\n",
       "      <td>0</td>\n",
       "      <td>0</td>\n",
       "      <td>0</td>\n",
       "      <td>0</td>\n",
       "      <td>0</td>\n",
       "      <td>0</td>\n",
       "    </tr>\n",
       "    <tr>\n",
       "      <th>4</th>\n",
       "      <td>668800.0</td>\n",
       "      <td>1</td>\n",
       "      <td>1</td>\n",
       "      <td>43.7417</td>\n",
       "      <td>-79.3733</td>\n",
       "      <td>97000.0</td>\n",
       "      <td>0</td>\n",
       "      <td>0</td>\n",
       "      <td>0</td>\n",
       "      <td>0</td>\n",
       "      <td>...</td>\n",
       "      <td>0</td>\n",
       "      <td>0</td>\n",
       "      <td>0</td>\n",
       "      <td>1</td>\n",
       "      <td>0</td>\n",
       "      <td>0</td>\n",
       "      <td>0</td>\n",
       "      <td>0</td>\n",
       "      <td>0</td>\n",
       "      <td>0</td>\n",
       "    </tr>\n",
       "  </tbody>\n",
       "</table>\n",
       "<p>5 rows × 51 columns</p>\n",
       "</div>"
      ],
      "text/plain": [
       "       Price  Number_Beds  Number_Baths  Latitude  Longitude  \\\n",
       "0   779900.0            3             2   43.7417   -79.3733   \n",
       "1   799999.0            3             1   43.7417   -79.3733   \n",
       "2   799900.0            2             2   43.7417   -79.3733   \n",
       "3  1200000.0            4             2   43.7417   -79.3733   \n",
       "4   668800.0            1             1   43.7417   -79.3733   \n",
       "\n",
       "   Median_Family_Income  City_Abbotsford  City_Airdrie  City_Barrie  \\\n",
       "0               97000.0                0             0            0   \n",
       "1               97000.0                0             0            0   \n",
       "2               97000.0                0             0            0   \n",
       "3               97000.0                0             0            0   \n",
       "4               97000.0                0             0            0   \n",
       "\n",
       "   City_Brantford  ...  City_St. John's  City_Sudbury  City_Thunder Bay  \\\n",
       "0               0  ...                0             0                 0   \n",
       "1               0  ...                0             0                 0   \n",
       "2               0  ...                0             0                 0   \n",
       "3               0  ...                0             0                 0   \n",
       "4               0  ...                0             0                 0   \n",
       "\n",
       "   City_Toronto  City_Trois-Rivieres  City_Vancouver  City_Victoria  \\\n",
       "0             1                    0               0              0   \n",
       "1             1                    0               0              0   \n",
       "2             1                    0               0              0   \n",
       "3             1                    0               0              0   \n",
       "4             1                    0               0              0   \n",
       "\n",
       "   City_White Rock  City_Windsor  City_Winnipeg  \n",
       "0                0             0              0  \n",
       "1                0             0              0  \n",
       "2                0             0              0  \n",
       "3                0             0              0  \n",
       "4                0             0              0  \n",
       "\n",
       "[5 rows x 51 columns]"
      ]
     },
     "execution_count": 25,
     "metadata": {},
     "output_type": "execute_result"
    }
   ],
   "source": [
    "df.head()"
   ]
  },
  {
   "cell_type": "code",
   "execution_count": 26,
   "id": "7c7c418b",
   "metadata": {},
   "outputs": [
    {
     "data": {
      "text/plain": [
       "City_Regina             -0.239957\n",
       "Latitude                -0.209222\n",
       "City_Saskatoon          -0.165189\n",
       "City_Edmonton           -0.164042\n",
       "City_Saint John         -0.107251\n",
       "City_St. John's         -0.103998\n",
       "Longitude               -0.098332\n",
       "City_Winnipeg           -0.088871\n",
       "City_Moncton            -0.082656\n",
       "City_Lethbridge         -0.079769\n",
       "City_Red Deer           -0.066827\n",
       "City_Medicine Hat       -0.065113\n",
       "City_Calgary            -0.064192\n",
       "City_Quebec             -0.056560\n",
       "City_Sault Ste. Marie   -0.053997\n",
       "City_Prince George      -0.053643\n",
       "City_Thunder Bay        -0.051831\n",
       "City_Sherbrooke         -0.044395\n",
       "City_Windsor            -0.043305\n",
       "City_Trois-Rivieres     -0.042959\n",
       "City_Sudbury            -0.036255\n",
       "City_Ottawa             -0.016892\n",
       "City_Airdrie            -0.015398\n",
       "City_Halifax            -0.011487\n",
       "City_Kingston           -0.008235\n",
       "City_Kamloops           -0.005810\n",
       "City_Peterborough       -0.004292\n",
       "City_Nanaimo             0.002971\n",
       "City_London              0.008218\n",
       "City_Kitchener           0.015934\n",
       "City_Montreal            0.026088\n",
       "City_St. Catharines      0.026238\n",
       "City_Brantford           0.028648\n",
       "City_Guelph              0.038417\n",
       "City_Hamilton            0.049750\n",
       "City_Barrie              0.052370\n",
       "City_Kelowna             0.059936\n",
       "City_Oshawa              0.076280\n",
       "City_Toronto             0.080067\n",
       "City_Abbotsford          0.082751\n",
       "City_Victoria            0.092739\n",
       "City_New Westminster     0.102450\n",
       "City_Burnaby             0.105464\n",
       "City_Vancouver           0.135573\n",
       "City_Maple Ridge         0.147987\n",
       "Median_Family_Income     0.149491\n",
       "City_Caledon             0.155608\n",
       "City_White Rock          0.156475\n",
       "Number_Beds              0.390045\n",
       "Number_Baths             0.486923\n",
       "Price                    1.000000\n",
       "Name: Price, dtype: float64"
      ]
     },
     "execution_count": 26,
     "metadata": {},
     "output_type": "execute_result"
    }
   ],
   "source": [
    "df.corr()['Price'].sort_values()"
   ]
  },
  {
   "cell_type": "code",
   "execution_count": 27,
   "id": "dbe726bd",
   "metadata": {},
   "outputs": [],
   "source": [
    "from sklearn.model_selection import train_test_split\n",
    "\n",
    "X = df.drop(columns=['Price'])\n",
    "y = df['Price']\n",
    "\n",
    "X_train, X_test, Y_train, Y_test = train_test_split(X, y, test_size=0.25, random_state=101)"
   ]
  },
  {
   "cell_type": "code",
   "execution_count": 28,
   "id": "1d0eeb4c",
   "metadata": {},
   "outputs": [
    {
     "data": {
      "text/plain": [
       "(       Number_Beds  Number_Baths  Latitude  Longitude  Median_Family_Income  \\\n",
       " 33340            3             2   50.4547  -104.6067               90000.0   \n",
       " 24187            4             2   50.6761  -120.3408               87000.0   \n",
       " 16172            4             4   50.4547  -104.6067               90000.0   \n",
       " 2584             4             3   49.2500  -123.1000               90000.0   \n",
       " 30689            3             2   43.8667   -79.8667              133000.0   \n",
       " ...            ...           ...       ...        ...                   ...   \n",
       " 13189            4             4   48.4283  -123.3647               85000.0   \n",
       " 6277             1             1   45.4247   -75.6950               98000.0   \n",
       " 8682             1             1   43.4186   -80.4728               92000.0   \n",
       " 18765            1             1   49.8881  -119.4956               85000.0   \n",
       " 18959            5             3   49.8881  -119.4956               85000.0   \n",
       " \n",
       "        City_Abbotsford  City_Airdrie  City_Barrie  City_Brantford  \\\n",
       " 33340                0             0            0               0   \n",
       " 24187                0             0            0               0   \n",
       " 16172                0             0            0               0   \n",
       " 2584                 0             0            0               0   \n",
       " 30689                0             0            0               0   \n",
       " ...                ...           ...          ...             ...   \n",
       " 13189                0             0            0               0   \n",
       " 6277                 0             0            0               0   \n",
       " 8682                 0             0            0               0   \n",
       " 18765                0             0            0               0   \n",
       " 18959                0             0            0               0   \n",
       " \n",
       "        City_Burnaby  ...  City_St. John's  City_Sudbury  City_Thunder Bay  \\\n",
       " 33340             0  ...                0             0                 0   \n",
       " 24187             0  ...                0             0                 0   \n",
       " 16172             0  ...                0             0                 0   \n",
       " 2584              0  ...                0             0                 0   \n",
       " 30689             0  ...                0             0                 0   \n",
       " ...             ...  ...              ...           ...               ...   \n",
       " 13189             0  ...                0             0                 0   \n",
       " 6277              0  ...                0             0                 0   \n",
       " 8682              0  ...                0             0                 0   \n",
       " 18765             0  ...                0             0                 0   \n",
       " 18959             0  ...                0             0                 0   \n",
       " \n",
       "        City_Toronto  City_Trois-Rivieres  City_Vancouver  City_Victoria  \\\n",
       " 33340             0                    0               0              0   \n",
       " 24187             0                    0               0              0   \n",
       " 16172             0                    0               0              0   \n",
       " 2584              0                    0               1              0   \n",
       " 30689             0                    0               0              0   \n",
       " ...             ...                  ...             ...            ...   \n",
       " 13189             0                    0               0              1   \n",
       " 6277              0                    0               0              0   \n",
       " 8682              0                    0               0              0   \n",
       " 18765             0                    0               0              0   \n",
       " 18959             0                    0               0              0   \n",
       " \n",
       "        City_White Rock  City_Windsor  City_Winnipeg  \n",
       " 33340                0             0              0  \n",
       " 24187                0             0              0  \n",
       " 16172                0             0              0  \n",
       " 2584                 0             0              0  \n",
       " 30689                0             0              0  \n",
       " ...                ...           ...            ...  \n",
       " 13189                0             0              0  \n",
       " 6277                 0             0              0  \n",
       " 8682                 0             0              0  \n",
       " 18765                0             0              0  \n",
       " 18959                0             0              0  \n",
       " \n",
       " [24973 rows x 50 columns],\n",
       " 33340     274900.0\n",
       " 24187     674900.0\n",
       " 16172     299900.0\n",
       " 2584     1899000.0\n",
       " 30689     719000.0\n",
       "            ...    \n",
       " 13189     799000.0\n",
       " 6277      424900.0\n",
       " 8682      430000.0\n",
       " 18765     294900.0\n",
       " 18959     879900.0\n",
       " Name: Price, Length: 24973, dtype: float64)"
      ]
     },
     "execution_count": 28,
     "metadata": {},
     "output_type": "execute_result"
    }
   ],
   "source": [
    "X_train, Y_train"
   ]
  },
  {
   "cell_type": "code",
   "execution_count": 29,
   "id": "3921db9c3a12fdc3",
   "metadata": {},
   "outputs": [],
   "source": [
    "from sklearn.preprocessing import StandardScaler\n",
    "sc = StandardScaler()"
   ]
  },
  {
   "cell_type": "code",
   "execution_count": 94,
   "id": "5d7895e5",
   "metadata": {},
   "outputs": [],
   "source": [
    "X_train_scaled = sc.fit_transform(X_train)\n",
    "X_test_scaled = sc.transform(X_test)"
   ]
  },
  {
   "cell_type": "code",
   "execution_count": 95,
   "id": "253a20db",
   "metadata": {},
   "outputs": [
    {
     "data": {
      "text/html": [
       "<style>#sk-container-id-3 {color: black;}#sk-container-id-3 pre{padding: 0;}#sk-container-id-3 div.sk-toggleable {background-color: white;}#sk-container-id-3 label.sk-toggleable__label {cursor: pointer;display: block;width: 100%;margin-bottom: 0;padding: 0.3em;box-sizing: border-box;text-align: center;}#sk-container-id-3 label.sk-toggleable__label-arrow:before {content: \"▸\";float: left;margin-right: 0.25em;color: #696969;}#sk-container-id-3 label.sk-toggleable__label-arrow:hover:before {color: black;}#sk-container-id-3 div.sk-estimator:hover label.sk-toggleable__label-arrow:before {color: black;}#sk-container-id-3 div.sk-toggleable__content {max-height: 0;max-width: 0;overflow: hidden;text-align: left;background-color: #f0f8ff;}#sk-container-id-3 div.sk-toggleable__content pre {margin: 0.2em;color: black;border-radius: 0.25em;background-color: #f0f8ff;}#sk-container-id-3 input.sk-toggleable__control:checked~div.sk-toggleable__content {max-height: 200px;max-width: 100%;overflow: auto;}#sk-container-id-3 input.sk-toggleable__control:checked~label.sk-toggleable__label-arrow:before {content: \"▾\";}#sk-container-id-3 div.sk-estimator input.sk-toggleable__control:checked~label.sk-toggleable__label {background-color: #d4ebff;}#sk-container-id-3 div.sk-label input.sk-toggleable__control:checked~label.sk-toggleable__label {background-color: #d4ebff;}#sk-container-id-3 input.sk-hidden--visually {border: 0;clip: rect(1px 1px 1px 1px);clip: rect(1px, 1px, 1px, 1px);height: 1px;margin: -1px;overflow: hidden;padding: 0;position: absolute;width: 1px;}#sk-container-id-3 div.sk-estimator {font-family: monospace;background-color: #f0f8ff;border: 1px dotted black;border-radius: 0.25em;box-sizing: border-box;margin-bottom: 0.5em;}#sk-container-id-3 div.sk-estimator:hover {background-color: #d4ebff;}#sk-container-id-3 div.sk-parallel-item::after {content: \"\";width: 100%;border-bottom: 1px solid gray;flex-grow: 1;}#sk-container-id-3 div.sk-label:hover label.sk-toggleable__label {background-color: #d4ebff;}#sk-container-id-3 div.sk-serial::before {content: \"\";position: absolute;border-left: 1px solid gray;box-sizing: border-box;top: 0;bottom: 0;left: 50%;z-index: 0;}#sk-container-id-3 div.sk-serial {display: flex;flex-direction: column;align-items: center;background-color: white;padding-right: 0.2em;padding-left: 0.2em;position: relative;}#sk-container-id-3 div.sk-item {position: relative;z-index: 1;}#sk-container-id-3 div.sk-parallel {display: flex;align-items: stretch;justify-content: center;background-color: white;position: relative;}#sk-container-id-3 div.sk-item::before, #sk-container-id-3 div.sk-parallel-item::before {content: \"\";position: absolute;border-left: 1px solid gray;box-sizing: border-box;top: 0;bottom: 0;left: 50%;z-index: -1;}#sk-container-id-3 div.sk-parallel-item {display: flex;flex-direction: column;z-index: 1;position: relative;background-color: white;}#sk-container-id-3 div.sk-parallel-item:first-child::after {align-self: flex-end;width: 50%;}#sk-container-id-3 div.sk-parallel-item:last-child::after {align-self: flex-start;width: 50%;}#sk-container-id-3 div.sk-parallel-item:only-child::after {width: 0;}#sk-container-id-3 div.sk-dashed-wrapped {border: 1px dashed gray;margin: 0 0.4em 0.5em 0.4em;box-sizing: border-box;padding-bottom: 0.4em;background-color: white;}#sk-container-id-3 div.sk-label label {font-family: monospace;font-weight: bold;display: inline-block;line-height: 1.2em;}#sk-container-id-3 div.sk-label-container {text-align: center;}#sk-container-id-3 div.sk-container {/* jupyter's `normalize.less` sets `[hidden] { display: none; }` but bootstrap.min.css set `[hidden] { display: none !important; }` so we also need the `!important` here to be able to override the default hidden behavior on the sphinx rendered scikit-learn.org. See: https://github.com/scikit-learn/scikit-learn/issues/21755 */display: inline-block !important;position: relative;}#sk-container-id-3 div.sk-text-repr-fallback {display: none;}</style><div id=\"sk-container-id-3\" class=\"sk-top-container\"><div class=\"sk-text-repr-fallback\"><pre>LinearRegression()</pre><b>In a Jupyter environment, please rerun this cell to show the HTML representation or trust the notebook. <br />On GitHub, the HTML representation is unable to render, please try loading this page with nbviewer.org.</b></div><div class=\"sk-container\" hidden><div class=\"sk-item\"><div class=\"sk-estimator sk-toggleable\"><input class=\"sk-toggleable__control sk-hidden--visually\" id=\"sk-estimator-id-3\" type=\"checkbox\" checked><label for=\"sk-estimator-id-3\" class=\"sk-toggleable__label sk-toggleable__label-arrow\">LinearRegression</label><div class=\"sk-toggleable__content\"><pre>LinearRegression()</pre></div></div></div></div></div>"
      ],
      "text/plain": [
       "LinearRegression()"
      ]
     },
     "execution_count": 95,
     "metadata": {},
     "output_type": "execute_result"
    }
   ],
   "source": [
    "from sklearn.linear_model import LinearRegression\n",
    "\n",
    "regr = LinearRegression()\n",
    "regr.fit(X_train_scaled, Y_train)"
   ]
  },
  {
   "cell_type": "code",
   "execution_count": 96,
   "id": "78cfeebd",
   "metadata": {},
   "outputs": [
    {
     "name": "stdout",
     "output_type": "stream",
     "text": [
      "197954.78547167752\n"
     ]
    }
   ],
   "source": [
    "from sklearn.metrics import mean_absolute_error\n",
    "from sklearn.metrics import mean_squared_error\n",
    "\n",
    "Y_pred = regr.predict(X_test_scaled)\n",
    "\n",
    "mae = mean_absolute_error(Y_test, Y_pred)\n",
    "print(mae)"
   ]
  },
  {
   "cell_type": "code",
   "execution_count": 86,
   "id": "f31f2a26",
   "metadata": {},
   "outputs": [
    {
     "data": {
      "text/plain": [
       "0.5827581233741531"
      ]
     },
     "execution_count": 86,
     "metadata": {},
     "output_type": "execute_result"
    }
   ],
   "source": [
    "from sklearn.metrics import r2_score\n",
    "\n",
    "r_squared = r2_score(Y_test, Y_pred)\n",
    "\n",
    "r_squared "
   ]
  },
  {
   "cell_type": "code",
   "execution_count": 87,
   "id": "a9fbcc92",
   "metadata": {},
   "outputs": [
    {
     "data": {
      "text/plain": [
       "75067856468.23682"
      ]
     },
     "execution_count": 87,
     "metadata": {},
     "output_type": "execute_result"
    }
   ],
   "source": [
    "mean_squared_error(Y_test, Y_pred)"
   ]
  },
  {
   "cell_type": "code",
   "execution_count": 88,
   "id": "8fb0c235",
   "metadata": {},
   "outputs": [],
   "source": [
    "from sklearn.neighbors import KNeighborsRegressor\n",
    "\n",
    "knn_regressor = KNeighborsRegressor(n_neighbors=20)\n",
    "\n",
    "knn_regressor.fit(X_train, Y_train)\n",
    "Y_pred = knn_regressor.predict(X_test)"
   ]
  },
  {
   "cell_type": "code",
   "execution_count": 89,
   "id": "6c9e043c",
   "metadata": {},
   "outputs": [
    {
     "data": {
      "text/plain": [
       "181393.87685003004"
      ]
     },
     "execution_count": 89,
     "metadata": {},
     "output_type": "execute_result"
    }
   ],
   "source": [
    "mean_absolute_error(Y_test, Y_pred)"
   ]
  },
  {
   "cell_type": "code",
   "execution_count": 38,
   "id": "498debb8",
   "metadata": {},
   "outputs": [
    {
     "data": {
      "text/plain": [
       "0.6366759228256335"
      ]
     },
     "execution_count": 38,
     "metadata": {},
     "output_type": "execute_result"
    }
   ],
   "source": [
    "r2_score(Y_test, Y_pred)"
   ]
  },
  {
   "cell_type": "code",
   "execution_count": 39,
   "id": "b5a00249",
   "metadata": {},
   "outputs": [
    {
     "data": {
      "text/plain": [
       "65367263461.99739"
      ]
     },
     "execution_count": 39,
     "metadata": {},
     "output_type": "execute_result"
    }
   ],
   "source": [
    "mean_squared_error(Y_test, Y_pred)"
   ]
  },
  {
   "cell_type": "code",
   "execution_count": 40,
   "id": "b0149417",
   "metadata": {},
   "outputs": [],
   "source": [
    "from sklearn.neighbors import KNeighborsRegressor\n",
    "\n",
    "knn_regressor = KNeighborsRegressor(n_neighbors=10)\n",
    "\n",
    "knn_regressor.fit(X_train, Y_train)\n",
    "Y_pred = knn_regressor.predict(X_test)"
   ]
  },
  {
   "cell_type": "code",
   "execution_count": 41,
   "id": "094129ba",
   "metadata": {},
   "outputs": [
    {
     "data": {
      "text/plain": [
       "186594.92919555554"
      ]
     },
     "execution_count": 41,
     "metadata": {},
     "output_type": "execute_result"
    }
   ],
   "source": [
    "mean_absolute_error(Y_test, Y_pred)"
   ]
  },
  {
   "cell_type": "code",
   "execution_count": 42,
   "id": "ff27061a",
   "metadata": {},
   "outputs": [
    {
     "data": {
      "text/plain": [
       "0.6186057885165318"
      ]
     },
     "execution_count": 42,
     "metadata": {},
     "output_type": "execute_result"
    }
   ],
   "source": [
    "r2_score(Y_test, Y_pred)"
   ]
  },
  {
   "cell_type": "code",
   "execution_count": 43,
   "id": "1e0bcb96",
   "metadata": {},
   "outputs": [
    {
     "data": {
      "text/plain": [
       "68618342331.757645"
      ]
     },
     "execution_count": 43,
     "metadata": {},
     "output_type": "execute_result"
    }
   ],
   "source": [
    "mean_squared_error(Y_test, Y_pred)"
   ]
  },
  {
   "cell_type": "code",
   "execution_count": 44,
   "id": "4de378e4",
   "metadata": {},
   "outputs": [],
   "source": [
    "from sklearn.neighbors import KNeighborsRegressor\n",
    "\n",
    "knn_regressor = KNeighborsRegressor(n_neighbors=30)\n",
    "\n",
    "knn_regressor.fit(X_train, Y_train)\n",
    "Y_pred = knn_regressor.predict(X_test)"
   ]
  },
  {
   "cell_type": "code",
   "execution_count": 45,
   "id": "43259a02",
   "metadata": {},
   "outputs": [
    {
     "data": {
      "text/plain": [
       "179552.14031931933"
      ]
     },
     "execution_count": 45,
     "metadata": {},
     "output_type": "execute_result"
    }
   ],
   "source": [
    "mean_absolute_error(Y_test, Y_pred)"
   ]
  },
  {
   "cell_type": "code",
   "execution_count": 46,
   "id": "f9c169f3",
   "metadata": {},
   "outputs": [
    {
     "data": {
      "text/plain": [
       "0.6386535867410237"
      ]
     },
     "execution_count": 46,
     "metadata": {},
     "output_type": "execute_result"
    }
   ],
   "source": [
    "r2_score(Y_test, Y_pred)"
   ]
  },
  {
   "cell_type": "code",
   "execution_count": 47,
   "id": "cb0a0edb",
   "metadata": {},
   "outputs": [
    {
     "data": {
      "text/plain": [
       "65011453081.35322"
      ]
     },
     "execution_count": 47,
     "metadata": {},
     "output_type": "execute_result"
    }
   ],
   "source": [
    "mean_squared_error(Y_test, Y_pred)"
   ]
  },
  {
   "cell_type": "code",
   "execution_count": 48,
   "id": "2cab18fb",
   "metadata": {},
   "outputs": [],
   "source": [
    "from sklearn.ensemble import RandomForestRegressor\n",
    "\n",
    "model = RandomForestRegressor()\n",
    "\n",
    "model.fit(X_train, Y_train)\n",
    "\n",
    "Y_pred = model.predict(X_test)"
   ]
  },
  {
   "cell_type": "code",
   "execution_count": 49,
   "id": "fef2aeab",
   "metadata": {},
   "outputs": [
    {
     "data": {
      "text/plain": [
       "177782.346345739"
      ]
     },
     "execution_count": 49,
     "metadata": {},
     "output_type": "execute_result"
    }
   ],
   "source": [
    "mean_absolute_error(Y_test, Y_pred)"
   ]
  },
  {
   "cell_type": "code",
   "execution_count": 50,
   "id": "75298a55",
   "metadata": {},
   "outputs": [
    {
     "data": {
      "text/plain": [
       "0.6429239671490397"
      ]
     },
     "execution_count": 50,
     "metadata": {},
     "output_type": "execute_result"
    }
   ],
   "source": [
    "r2_score(Y_test, Y_pred)"
   ]
  },
  {
   "cell_type": "code",
   "execution_count": 51,
   "id": "f8e84c30",
   "metadata": {},
   "outputs": [
    {
     "data": {
      "text/plain": [
       "64243149798.55218"
      ]
     },
     "execution_count": 51,
     "metadata": {},
     "output_type": "execute_result"
    }
   ],
   "source": [
    "mean_squared_error(Y_test, Y_pred)"
   ]
  },
  {
   "cell_type": "code",
   "execution_count": 52,
   "id": "47d5f4fb",
   "metadata": {},
   "outputs": [],
   "source": [
    "from sklearn.svm import SVR\n",
    "\n",
    "svr = SVR(kernel=\"rbf\", C=100, epsilon=0.1)\n",
    "\n",
    "svr.fit(X_train, Y_train)\n",
    "\n",
    "Y_pred = svr.predict(X_test)"
   ]
  },
  {
   "cell_type": "code",
   "execution_count": 53,
   "id": "ba428118",
   "metadata": {},
   "outputs": [
    {
     "data": {
      "text/plain": [
       "323918.0638650858"
      ]
     },
     "execution_count": 53,
     "metadata": {},
     "output_type": "execute_result"
    }
   ],
   "source": [
    "mean_absolute_error(Y_test, Y_pred)"
   ]
  },
  {
   "cell_type": "code",
   "execution_count": 54,
   "id": "25d5dc24",
   "metadata": {},
   "outputs": [
    {
     "data": {
      "text/plain": [
       "-0.032346771587440815"
      ]
     },
     "execution_count": 54,
     "metadata": {},
     "output_type": "execute_result"
    }
   ],
   "source": [
    "r2_score(Y_test, Y_pred)"
   ]
  },
  {
   "cell_type": "code",
   "execution_count": 55,
   "id": "b4118685",
   "metadata": {},
   "outputs": [
    {
     "data": {
      "text/plain": [
       "185734135561.0541"
      ]
     },
     "execution_count": 55,
     "metadata": {},
     "output_type": "execute_result"
    }
   ],
   "source": [
    "mean_squared_error(Y_test, Y_pred)"
   ]
  },
  {
   "cell_type": "code",
   "execution_count": 56,
   "id": "bcd05da9",
   "metadata": {},
   "outputs": [],
   "source": [
    "from sklearn.svm import SVR\n",
    "\n",
    "scaler = StandardScaler()\n",
    "X_train_scaled = scaler.fit_transform(X_train)\n",
    "X_test_scaled = scaler.transform(X_test)\n",
    "\n",
    "# SVR modelini oluşturma ve eğitme\n",
    "svr = SVR(kernel=\"linear\", C=100, epsilon=0.1)\n",
    "svr.fit(X_train_scaled, Y_train)\n",
    "\n",
    "# Test verisi üzerinde tahmin yapma\n",
    "Y_pred = svr.predict(X_test_scaled)\n"
   ]
  },
  {
   "cell_type": "code",
   "execution_count": 57,
   "id": "87ca2b93",
   "metadata": {},
   "outputs": [],
   "source": [
    "from sklearn.svm import SVR\n",
    "\n",
    "scaler = StandardScaler()\n",
    "X_train_scaled = scaler.fit_transform(X_train)\n",
    "X_test_scaled = scaler.transform(X_test)\n",
    "\n",
    "# SVR modelini oluşturma ve eğitme\n",
    "svr = SVR(kernel=\"linear\", C=100, epsilon=0.1)\n",
    "svr.fit(X_train_scaled, Y_train)\n",
    "\n",
    "# Test verisi üzerinde tahmin yapma\n",
    "Y_pred = svr.predict(X_test_scaled)\n"
   ]
  },
  {
   "cell_type": "code",
   "execution_count": 58,
   "id": "13e319b0",
   "metadata": {},
   "outputs": [
    {
     "data": {
      "text/plain": [
       "193449.4444525476"
      ]
     },
     "execution_count": 58,
     "metadata": {},
     "output_type": "execute_result"
    }
   ],
   "source": [
    "mean_absolute_error(Y_test, Y_pred)"
   ]
  },
  {
   "cell_type": "code",
   "execution_count": 59,
   "id": "1621bf6a",
   "metadata": {},
   "outputs": [
    {
     "data": {
      "text/plain": [
       "0.548538444041105"
      ]
     },
     "execution_count": 59,
     "metadata": {},
     "output_type": "execute_result"
    }
   ],
   "source": [
    "r2_score(Y_test, Y_pred)"
   ]
  },
  {
   "cell_type": "code",
   "execution_count": 60,
   "id": "6815845c",
   "metadata": {},
   "outputs": [
    {
     "data": {
      "text/plain": [
       "81224472379.69736"
      ]
     },
     "execution_count": 60,
     "metadata": {},
     "output_type": "execute_result"
    }
   ],
   "source": [
    "mean_squared_error(Y_test, Y_pred)"
   ]
  },
  {
   "cell_type": "code",
   "execution_count": 61,
   "id": "fd4e556c",
   "metadata": {},
   "outputs": [],
   "source": [
    "from sklearn.svm import SVR\n",
    "\n",
    "scaler = StandardScaler()\n",
    "X_train_scaled = scaler.fit_transform(X_train)\n",
    "X_test_scaled = scaler.transform(X_test)\n",
    "\n",
    "# SVR modelini oluşturma ve eğitme\n",
    "svr = SVR(kernel=\"linear\", C=1000, epsilon=0.1)\n",
    "svr.fit(X_train_scaled, Y_train)\n",
    "\n",
    "# Test verisi üzerinde tahmin yapma\n",
    "Y_pred = svr.predict(X_test_scaled)\n"
   ]
  },
  {
   "cell_type": "code",
   "execution_count": 62,
   "id": "559d63d5",
   "metadata": {},
   "outputs": [
    {
     "data": {
      "text/plain": [
       "192565.16845748798"
      ]
     },
     "execution_count": 62,
     "metadata": {},
     "output_type": "execute_result"
    }
   ],
   "source": [
    "mean_absolute_error(Y_test, Y_pred)"
   ]
  },
  {
   "cell_type": "code",
   "execution_count": 63,
   "id": "867c7539",
   "metadata": {},
   "outputs": [
    {
     "data": {
      "text/plain": [
       "0.5619347421131871"
      ]
     },
     "execution_count": 63,
     "metadata": {},
     "output_type": "execute_result"
    }
   ],
   "source": [
    "r2_score(Y_test, Y_pred)"
   ]
  },
  {
   "cell_type": "code",
   "execution_count": 64,
   "id": "c2b68a53",
   "metadata": {},
   "outputs": [
    {
     "data": {
      "text/plain": [
       "78814284339.57751"
      ]
     },
     "execution_count": 64,
     "metadata": {},
     "output_type": "execute_result"
    }
   ],
   "source": [
    "mean_squared_error(Y_test, Y_pred)"
   ]
  },
  {
   "cell_type": "code",
   "execution_count": 65,
   "id": "bbfcdfba",
   "metadata": {},
   "outputs": [],
   "source": [
    "from sklearn.neural_network import MLPRegressor\n",
    "\n",
    "mlp_regressor = MLPRegressor(hidden_layer_sizes=(100, 50), activation='relu', solver='adam', max_iter=1000,\n",
    "                             early_stopping=True, validation_fraction=0.1)\n",
    "mlp_regressor.fit(X_train_scaled, Y_train)\n",
    "\n",
    "Y_pred = mlp_regressor.predict(X_test_scaled)"
   ]
  },
  {
   "cell_type": "code",
   "execution_count": 66,
   "id": "ea0df6ee",
   "metadata": {},
   "outputs": [
    {
     "data": {
      "text/plain": [
       "191362.4509437336"
      ]
     },
     "execution_count": 66,
     "metadata": {},
     "output_type": "execute_result"
    }
   ],
   "source": [
    "mean_absolute_error(Y_test, Y_pred)"
   ]
  },
  {
   "cell_type": "code",
   "execution_count": 67,
   "id": "ec59bab8",
   "metadata": {},
   "outputs": [
    {
     "data": {
      "text/plain": [
       "0.601017983046231"
      ]
     },
     "execution_count": 67,
     "metadata": {},
     "output_type": "execute_result"
    }
   ],
   "source": [
    "r2_score(Y_test, Y_pred)"
   ]
  },
  {
   "cell_type": "code",
   "execution_count": 68,
   "id": "bd359fd8",
   "metadata": {},
   "outputs": [
    {
     "data": {
      "text/plain": [
       "71782643257.90784"
      ]
     },
     "execution_count": 68,
     "metadata": {},
     "output_type": "execute_result"
    }
   ],
   "source": [
    "mean_squared_error(Y_test, Y_pred)"
   ]
  },
  {
   "cell_type": "code",
   "execution_count": 69,
   "id": "f481eace",
   "metadata": {},
   "outputs": [],
   "source": [
    "from sklearn.ensemble import GradientBoostingRegressor\n",
    "\n",
    "gb_regressor = GradientBoostingRegressor(n_estimators=100, learning_rate=0.1, max_depth=3, random_state=42)\n",
    "gb_regressor.fit(X_train_scaled, Y_train)\n",
    "\n",
    "Y_pred = gb_regressor.predict(X_test_scaled)"
   ]
  },
  {
   "cell_type": "code",
   "execution_count": 70,
   "id": "fa2a49c4",
   "metadata": {},
   "outputs": [
    {
     "data": {
      "text/plain": [
       "182554.97360555318"
      ]
     },
     "execution_count": 70,
     "metadata": {},
     "output_type": "execute_result"
    }
   ],
   "source": [
    "mean_absolute_error(Y_test, Y_pred)"
   ]
  },
  {
   "cell_type": "code",
   "execution_count": 71,
   "id": "fe3d1f67",
   "metadata": {},
   "outputs": [
    {
     "data": {
      "text/plain": [
       "0.634072699835688"
      ]
     },
     "execution_count": 71,
     "metadata": {},
     "output_type": "execute_result"
    }
   ],
   "source": [
    "r2_score(Y_test, Y_pred)"
   ]
  },
  {
   "cell_type": "code",
   "execution_count": 72,
   "id": "4f19a63d",
   "metadata": {},
   "outputs": [
    {
     "data": {
      "text/plain": [
       "65835620980.049866"
      ]
     },
     "execution_count": 72,
     "metadata": {},
     "output_type": "execute_result"
    }
   ],
   "source": [
    "mean_squared_error(Y_test, Y_pred)"
   ]
  },
  {
   "cell_type": "code",
   "execution_count": 73,
   "id": "6de20d2a",
   "metadata": {},
   "outputs": [],
   "source": [
    "from sklearn.ensemble import GradientBoostingRegressor\n",
    "\n",
    "gb_regressor = GradientBoostingRegressor(n_estimators=200, learning_rate=0.1, max_depth=5, random_state=42)\n",
    "gb_regressor.fit(X_train_scaled, Y_train)\n",
    "\n",
    "Y_pred = gb_regressor.predict(X_test_scaled)"
   ]
  },
  {
   "cell_type": "code",
   "execution_count": 74,
   "id": "7e05c207",
   "metadata": {},
   "outputs": [
    {
     "data": {
      "text/plain": [
       "176008.67849125416"
      ]
     },
     "execution_count": 74,
     "metadata": {},
     "output_type": "execute_result"
    }
   ],
   "source": [
    "mean_absolute_error(Y_test, Y_pred)"
   ]
  },
  {
   "cell_type": "code",
   "execution_count": 75,
   "id": "4297abe1",
   "metadata": {},
   "outputs": [
    {
     "data": {
      "text/plain": [
       "0.6517916599786384"
      ]
     },
     "execution_count": 75,
     "metadata": {},
     "output_type": "execute_result"
    }
   ],
   "source": [
    "r2_score(Y_test, Y_pred)"
   ]
  },
  {
   "cell_type": "code",
   "execution_count": 76,
   "id": "b07a1ed4",
   "metadata": {},
   "outputs": [
    {
     "data": {
      "text/plain": [
       "62647723428.79286"
      ]
     },
     "execution_count": 76,
     "metadata": {},
     "output_type": "execute_result"
    }
   ],
   "source": [
    "mean_squared_error(Y_test, Y_pred)"
   ]
  },
  {
   "cell_type": "code",
   "execution_count": 77,
   "id": "e1e4463b",
   "metadata": {},
   "outputs": [],
   "source": [
    "from sklearn.ensemble import GradientBoostingRegressor\n",
    "\n",
    "gb_regressor = GradientBoostingRegressor(n_estimators=500, learning_rate=0.1, max_depth=8, random_state=42)\n",
    "gb_regressor.fit(X_train_scaled, Y_train)\n",
    "\n",
    "Y_pred = gb_regressor.predict(X_test_scaled)"
   ]
  },
  {
   "cell_type": "code",
   "execution_count": 78,
   "id": "f517c805",
   "metadata": {},
   "outputs": [
    {
     "data": {
      "text/plain": [
       "177967.16103583967"
      ]
     },
     "execution_count": 78,
     "metadata": {},
     "output_type": "execute_result"
    }
   ],
   "source": [
    "mean_absolute_error(Y_test, Y_pred)"
   ]
  },
  {
   "cell_type": "code",
   "execution_count": 79,
   "id": "f65ae558",
   "metadata": {},
   "outputs": [
    {
     "data": {
      "text/plain": [
       "0.6396625138755077"
      ]
     },
     "execution_count": 79,
     "metadata": {},
     "output_type": "execute_result"
    }
   ],
   "source": [
    "r2_score(Y_test, Y_pred)"
   ]
  },
  {
   "cell_type": "code",
   "execution_count": 81,
   "id": "2a0e08c6",
   "metadata": {},
   "outputs": [
    {
     "data": {
      "text/plain": [
       "64829932477.69084"
      ]
     },
     "execution_count": 81,
     "metadata": {},
     "output_type": "execute_result"
    }
   ],
   "source": [
    "mean_squared_error(Y_test, Y_pred)"
   ]
  },
  {
   "cell_type": "code",
   "execution_count": null,
   "id": "1260ac52",
   "metadata": {},
   "outputs": [],
   "source": []
  }
 ],
 "metadata": {
  "kernelspec": {
   "display_name": "Python 3 (ipykernel)",
   "language": "python",
   "name": "python3"
  },
  "language_info": {
   "codemirror_mode": {
    "name": "ipython",
    "version": 3
   },
   "file_extension": ".py",
   "mimetype": "text/x-python",
   "name": "python",
   "nbconvert_exporter": "python",
   "pygments_lexer": "ipython3",
   "version": "3.11.4"
  }
 },
 "nbformat": 4,
 "nbformat_minor": 5
}
